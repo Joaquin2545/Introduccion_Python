{
 "cells": [
  {
   "cell_type": "markdown",
   "metadata": {},
   "source": [
    "# Soporte Clase 4: Numpy\n",
    "\n",
    "- Numerical Python: Como su nombre lo indica es una biblioteca especializada en Estadisticas, Algebra Lineal y Matematicas en general. \n",
    "- Base sobre la cual se construye Pandas \n",
    "- Arrays y Matrices son sus clases/objetos principales"
   ]
  },
  {
   "cell_type": "markdown",
   "metadata": {},
   "source": [
    "## Creación de un Virtual Environment\n",
    "\n",
    "- Utilidad:\n",
    "  - Nos permite contenerizar las dependencias de nuestro proyecto y documentarlas\n",
    "  - Nos permite utilizar diferencias versiones (v1.41.4 vs v2.1.12 por ej) en distintos proyectos\n",
    "\n",
    "- Creación de un virtual environment o \"venv\" en python: \n",
    "  - python -m venv .venv (el ultimo nombre queda a elección del creador, es el nombre del venv creado)\n",
    "  \n",
    "- Activación del venv:\n",
    "  - Windows: nombre_del_entorno\\Scripts\\activate\n",
    "  - Linux/Mac: source nombre_del_entorno/bin/activate\n",
    "\n",
    "- Instalación de dependencias:\n",
    "  - pip install {dependencia}. \n",
    "  - Ejemplo: pip install numpy\n",
    "  \n",
    "- Documentación de las dependencias:\n",
    "  - pip freeze > requirements.txt\n",
    "  \n",
    "- Desactivar el venv:\n",
    "  - deactivate\n",
    "\n",
    "- Configuración adicional en Git/Github:\n",
    "  - Agregar al archivo .gitignore la carpeta del nombre del venv:\n",
    "  - ej: .venv/\n",
    "  - Esto evitara subir todas las dependencias al repositorio lo que es una mala práctica. \n",
    "  - En su lugar se sube requirements.txt para que quien descargue el repo pueda clonar las dependencias haciendo: \n",
    "  - pip install -r requirements.txt\n",
    "\n",
    "\n"
   ]
  },
  {
   "cell_type": "markdown",
   "metadata": {},
   "source": [
    "## Crear un venv directamente desde el notebook"
   ]
  },
  {
   "cell_type": "code",
   "execution_count": null,
   "metadata": {},
   "outputs": [],
   "source": [
    "! python -m venv .venv"
   ]
  },
  {
   "cell_type": "markdown",
   "metadata": {},
   "source": [
    "- En Mac/Linux: "
   ]
  },
  {
   "cell_type": "code",
   "execution_count": null,
   "metadata": {},
   "outputs": [],
   "source": [
    "! source .venv/bin/activate"
   ]
  },
  {
   "cell_type": "markdown",
   "metadata": {},
   "source": [
    "- En Windows"
   ]
  },
  {
   "cell_type": "code",
   "execution_count": null,
   "metadata": {},
   "outputs": [],
   "source": [
    "! .venv\\Scripts\\activate"
   ]
  },
  {
   "cell_type": "code",
   "execution_count": 2,
   "metadata": {},
   "outputs": [
    {
     "name": "stdout",
     "output_type": "stream",
     "text": [
      "Requirement already satisfied: numpy in ./.clase_4_venv/lib/python3.11/site-packages (2.1.0)\n",
      "\n",
      "\u001b[1m[\u001b[0m\u001b[34;49mnotice\u001b[0m\u001b[1;39;49m]\u001b[0m\u001b[39;49m A new release of pip is available: \u001b[0m\u001b[31;49m23.2.1\u001b[0m\u001b[39;49m -> \u001b[0m\u001b[32;49m24.2\u001b[0m\n",
      "\u001b[1m[\u001b[0m\u001b[34;49mnotice\u001b[0m\u001b[1;39;49m]\u001b[0m\u001b[39;49m To update, run: \u001b[0m\u001b[32;49mpip install --upgrade pip\u001b[0m\n"
     ]
    }
   ],
   "source": [
    "! pip install numpy==2.0"
   ]
  },
  {
   "cell_type": "code",
   "execution_count": 1,
   "metadata": {},
   "outputs": [
    {
     "name": "stdout",
     "output_type": "stream",
     "text": [
      "appnope==0.1.4\n",
      "asttokens==2.4.1\n",
      "comm==0.2.2\n",
      "debugpy==1.8.5\n",
      "decorator==5.1.1\n",
      "executing==2.0.1\n",
      "ipykernel==6.29.5\n",
      "ipython==8.26.0\n",
      "jedi==0.19.1\n",
      "jupyter_client==8.6.2\n",
      "jupyter_core==5.7.2\n",
      "matplotlib-inline==0.1.7\n",
      "nest-asyncio==1.6.0\n",
      "numpy==2.1.0\n",
      "packaging==24.1\n",
      "pandas==2.2.2\n",
      "parso==0.8.4\n",
      "pexpect==4.9.0\n",
      "platformdirs==4.2.2\n",
      "prompt_toolkit==3.0.47\n",
      "psutil==6.0.0\n",
      "ptyprocess==0.7.0\n",
      "pure_eval==0.2.3\n",
      "Pygments==2.18.0\n",
      "python-dateutil==2.9.0.post0\n",
      "pytz==2024.1\n",
      "pyzmq==26.2.0\n",
      "six==1.16.0\n",
      "stack-data==0.6.3\n",
      "tornado==6.4.1\n",
      "traitlets==5.14.3\n",
      "typing_extensions==4.12.2\n",
      "tzdata==2024.1\n",
      "wcwidth==0.2.13\n"
     ]
    }
   ],
   "source": [
    "! pip freeze"
   ]
  },
  {
   "cell_type": "code",
   "execution_count": 1,
   "metadata": {},
   "outputs": [],
   "source": [
    "! pip freeze > requirements.txt"
   ]
  },
  {
   "cell_type": "markdown",
   "metadata": {},
   "source": [
    "- Para instalar los requerimentos del proyecto. Si existe un archivo requierements.txt"
   ]
  },
  {
   "cell_type": "code",
   "execution_count": 3,
   "metadata": {},
   "outputs": [
    {
     "name": "stdout",
     "output_type": "stream",
     "text": [
      "Requirement already satisfied: appnope==0.1.4 in /Users/mgobea/Documents/Henry/.venv/lib/python3.11/site-packages (from -r requirements.txt (line 1)) (0.1.4)\n",
      "Requirement already satisfied: asttokens==2.4.1 in /Users/mgobea/Documents/Henry/.venv/lib/python3.11/site-packages (from -r requirements.txt (line 2)) (2.4.1)\n",
      "Requirement already satisfied: comm==0.2.2 in /Users/mgobea/Documents/Henry/.venv/lib/python3.11/site-packages (from -r requirements.txt (line 3)) (0.2.2)\n",
      "Requirement already satisfied: contourpy==1.2.1 in /Users/mgobea/Documents/Henry/.venv/lib/python3.11/site-packages (from -r requirements.txt (line 4)) (1.2.1)\n",
      "Requirement already satisfied: coverage==7.5.4 in /Users/mgobea/Documents/Henry/.venv/lib/python3.11/site-packages (from -r requirements.txt (line 5)) (7.5.4)\n",
      "Requirement already satisfied: cycler==0.12.1 in /Users/mgobea/Documents/Henry/.venv/lib/python3.11/site-packages (from -r requirements.txt (line 6)) (0.12.1)\n",
      "Requirement already satisfied: debugpy==1.8.2 in /Users/mgobea/Documents/Henry/.venv/lib/python3.11/site-packages (from -r requirements.txt (line 7)) (1.8.2)\n",
      "Requirement already satisfied: decorator==5.1.1 in /Users/mgobea/Documents/Henry/.venv/lib/python3.11/site-packages (from -r requirements.txt (line 8)) (5.1.1)\n",
      "Requirement already satisfied: executing==2.0.1 in /Users/mgobea/Documents/Henry/.venv/lib/python3.11/site-packages (from -r requirements.txt (line 9)) (2.0.1)\n",
      "Requirement already satisfied: fonttools==4.53.1 in /Users/mgobea/Documents/Henry/.venv/lib/python3.11/site-packages (from -r requirements.txt (line 10)) (4.53.1)\n",
      "Requirement already satisfied: ipykernel==6.29.5 in /Users/mgobea/Documents/Henry/.venv/lib/python3.11/site-packages (from -r requirements.txt (line 11)) (6.29.5)\n",
      "Requirement already satisfied: ipython==8.26.0 in /Users/mgobea/Documents/Henry/.venv/lib/python3.11/site-packages (from -r requirements.txt (line 12)) (8.26.0)\n",
      "Requirement already satisfied: jedi==0.19.1 in /Users/mgobea/Documents/Henry/.venv/lib/python3.11/site-packages (from -r requirements.txt (line 13)) (0.19.1)\n",
      "Requirement already satisfied: joblib==1.4.2 in /Users/mgobea/Documents/Henry/.venv/lib/python3.11/site-packages (from -r requirements.txt (line 14)) (1.4.2)\n",
      "Requirement already satisfied: jupyter_client==8.6.2 in /Users/mgobea/Documents/Henry/.venv/lib/python3.11/site-packages (from -r requirements.txt (line 15)) (8.6.2)\n",
      "Requirement already satisfied: jupyter_core==5.7.2 in /Users/mgobea/Documents/Henry/.venv/lib/python3.11/site-packages (from -r requirements.txt (line 16)) (5.7.2)\n",
      "Requirement already satisfied: kiwisolver==1.4.5 in /Users/mgobea/Documents/Henry/.venv/lib/python3.11/site-packages (from -r requirements.txt (line 17)) (1.4.5)\n",
      "Requirement already satisfied: matplotlib==3.9.1 in /Users/mgobea/Documents/Henry/.venv/lib/python3.11/site-packages (from -r requirements.txt (line 18)) (3.9.1)\n",
      "Requirement already satisfied: matplotlib-inline==0.1.7 in /Users/mgobea/Documents/Henry/.venv/lib/python3.11/site-packages (from -r requirements.txt (line 19)) (0.1.7)\n",
      "Requirement already satisfied: missing_mga==1.1.3 in /Users/mgobea/Documents/Henry/.venv/lib/python3.11/site-packages (from -r requirements.txt (line 20)) (1.1.3)\n",
      "Requirement already satisfied: nest-asyncio==1.6.0 in /Users/mgobea/Documents/Henry/.venv/lib/python3.11/site-packages (from -r requirements.txt (line 21)) (1.6.0)\n",
      "Requirement already satisfied: numpy==2.0.0 in /Users/mgobea/Documents/Henry/.venv/lib/python3.11/site-packages (from -r requirements.txt (line 22)) (2.0.0)\n",
      "Requirement already satisfied: packaging==24.1 in /Users/mgobea/Documents/Henry/.venv/lib/python3.11/site-packages (from -r requirements.txt (line 23)) (24.1)\n",
      "Requirement already satisfied: pandas==2.2.2 in /Users/mgobea/Documents/Henry/.venv/lib/python3.11/site-packages (from -r requirements.txt (line 24)) (2.2.2)\n",
      "Requirement already satisfied: parso==0.8.4 in /Users/mgobea/Documents/Henry/.venv/lib/python3.11/site-packages (from -r requirements.txt (line 25)) (0.8.4)\n",
      "Requirement already satisfied: pexpect==4.9.0 in /Users/mgobea/Documents/Henry/.venv/lib/python3.11/site-packages (from -r requirements.txt (line 26)) (4.9.0)\n",
      "Requirement already satisfied: pillow==10.4.0 in /Users/mgobea/Documents/Henry/.venv/lib/python3.11/site-packages (from -r requirements.txt (line 27)) (10.4.0)\n",
      "Requirement already satisfied: platformdirs==4.2.2 in /Users/mgobea/Documents/Henry/.venv/lib/python3.11/site-packages (from -r requirements.txt (line 28)) (4.2.2)\n",
      "Requirement already satisfied: prompt_toolkit==3.0.47 in /Users/mgobea/Documents/Henry/.venv/lib/python3.11/site-packages (from -r requirements.txt (line 29)) (3.0.47)\n",
      "Requirement already satisfied: psutil==6.0.0 in /Users/mgobea/Documents/Henry/.venv/lib/python3.11/site-packages (from -r requirements.txt (line 30)) (6.0.0)\n",
      "Requirement already satisfied: psycopg2==2.9.9 in /Users/mgobea/Documents/Henry/.venv/lib/python3.11/site-packages (from -r requirements.txt (line 31)) (2.9.9)\n",
      "Requirement already satisfied: ptyprocess==0.7.0 in /Users/mgobea/Documents/Henry/.venv/lib/python3.11/site-packages (from -r requirements.txt (line 32)) (0.7.0)\n",
      "Requirement already satisfied: pure-eval==0.2.2 in /Users/mgobea/Documents/Henry/.venv/lib/python3.11/site-packages (from -r requirements.txt (line 33)) (0.2.2)\n",
      "Requirement already satisfied: Pygments==2.18.0 in /Users/mgobea/Documents/Henry/.venv/lib/python3.11/site-packages (from -r requirements.txt (line 34)) (2.18.0)\n",
      "Requirement already satisfied: pyparsing==3.1.2 in /Users/mgobea/Documents/Henry/.venv/lib/python3.11/site-packages (from -r requirements.txt (line 35)) (3.1.2)\n",
      "Requirement already satisfied: python-dateutil==2.9.0.post0 in /Users/mgobea/Documents/Henry/.venv/lib/python3.11/site-packages (from -r requirements.txt (line 36)) (2.9.0.post0)\n",
      "Requirement already satisfied: python-dotenv==1.0.1 in /Users/mgobea/Documents/Henry/.venv/lib/python3.11/site-packages (from -r requirements.txt (line 37)) (1.0.1)\n",
      "Requirement already satisfied: pytz==2024.1 in /Users/mgobea/Documents/Henry/.venv/lib/python3.11/site-packages (from -r requirements.txt (line 38)) (2024.1)\n",
      "Requirement already satisfied: pyzmq==26.0.3 in /Users/mgobea/Documents/Henry/.venv/lib/python3.11/site-packages (from -r requirements.txt (line 39)) (26.0.3)\n",
      "Requirement already satisfied: scikit-learn==1.5.1 in /Users/mgobea/Documents/Henry/.venv/lib/python3.11/site-packages (from -r requirements.txt (line 40)) (1.5.1)\n",
      "Requirement already satisfied: scipy==1.14.0 in /Users/mgobea/Documents/Henry/.venv/lib/python3.11/site-packages (from -r requirements.txt (line 41)) (1.14.0)\n",
      "Requirement already satisfied: seaborn==0.13.2 in /Users/mgobea/Documents/Henry/.venv/lib/python3.11/site-packages (from -r requirements.txt (line 42)) (0.13.2)\n",
      "Requirement already satisfied: six==1.16.0 in /Users/mgobea/Documents/Henry/.venv/lib/python3.11/site-packages (from -r requirements.txt (line 43)) (1.16.0)\n",
      "Requirement already satisfied: SQLAlchemy==2.0.31 in /Users/mgobea/Documents/Henry/.venv/lib/python3.11/site-packages (from -r requirements.txt (line 44)) (2.0.31)\n",
      "Requirement already satisfied: stack-data==0.6.3 in /Users/mgobea/Documents/Henry/.venv/lib/python3.11/site-packages (from -r requirements.txt (line 45)) (0.6.3)\n",
      "Requirement already satisfied: threadpoolctl==3.5.0 in /Users/mgobea/Documents/Henry/.venv/lib/python3.11/site-packages (from -r requirements.txt (line 46)) (3.5.0)\n",
      "Requirement already satisfied: tornado==6.4.1 in /Users/mgobea/Documents/Henry/.venv/lib/python3.11/site-packages (from -r requirements.txt (line 47)) (6.4.1)\n",
      "Requirement already satisfied: traitlets==5.14.3 in /Users/mgobea/Documents/Henry/.venv/lib/python3.11/site-packages (from -r requirements.txt (line 48)) (5.14.3)\n",
      "Requirement already satisfied: typing_extensions==4.12.2 in /Users/mgobea/Documents/Henry/.venv/lib/python3.11/site-packages (from -r requirements.txt (line 49)) (4.12.2)\n",
      "Requirement already satisfied: tzdata==2024.1 in /Users/mgobea/Documents/Henry/.venv/lib/python3.11/site-packages (from -r requirements.txt (line 50)) (2024.1)\n",
      "Requirement already satisfied: UpSetPlot==0.9.0 in /Users/mgobea/Documents/Henry/.venv/lib/python3.11/site-packages (from -r requirements.txt (line 51)) (0.9.0)\n",
      "Requirement already satisfied: wcwidth==0.2.13 in /Users/mgobea/Documents/Henry/.venv/lib/python3.11/site-packages (from -r requirements.txt (line 52)) (0.2.13)\n"
     ]
    }
   ],
   "source": [
    "! pip install -r requirements.txt"
   ]
  },
  {
   "cell_type": "markdown",
   "metadata": {},
   "source": [
    "- Para desactivar el venv en Mac/Linux/Windows"
   ]
  },
  {
   "cell_type": "code",
   "execution_count": null,
   "metadata": {},
   "outputs": [],
   "source": [
    "! deactivate"
   ]
  },
  {
   "cell_type": "code",
   "execution_count": 3,
   "metadata": {},
   "outputs": [],
   "source": [
    "import numpy as np # Convención: Numpy se importa \"as np\""
   ]
  },
  {
   "cell_type": "markdown",
   "metadata": {},
   "source": [
    "**np.array: estructura de datos de alto rendimiento conocida como array, que permite realizar operaciones numéricas de manera eficiente.**"
   ]
  },
  {
   "cell_type": "markdown",
   "metadata": {},
   "source": [
    "## Resumen:\n",
    "\n",
    "- La importancia de Numpy radica en su capacidad para proporcionar una base sólida y eficiente para el análisis numérico y la manipulación de datos en Python, habilitando a los usuarios a realizar tareas complejas de manera más rápida, con menos código y de forma más intuitiva en comparación con las capacidades nativas de Python."
   ]
  },
  {
   "cell_type": "markdown",
   "metadata": {},
   "source": [
    "## características de los arrays:\n",
    "\n",
    "1. **Homogeneidad de tipo**: todos los elementos de un array deben ser del mismo tipo, lo que permite a Numpy almacenar los datos de manera más eficiente y realizar cálculos más rápidos.\n",
    "\n",
    "2. **Tamaño fijo en la creación**: a diferencia de las listas de Python, el tamaño de un array de Numpy es fijo en el momento de su creación. Aunque esto puede parecer una limitación, es precisamente lo que permite a Numpy ser tan eficiente.\n",
    "\n",
    "3. **Operaciones vectorizadas**: Numpy permite realizar operaciones sobre arrays completos sin necesidad de bucles explícitos, lo que mejora significativamente la legibilidad del código y el rendimiento.\n",
    "\n"
   ]
  },
  {
   "cell_type": "code",
   "execution_count": 4,
   "metadata": {},
   "outputs": [
    {
     "data": {
      "text/plain": [
       "array([1, 2, 3, 4, 5, 6, 7, 8, 9])"
      ]
     },
     "execution_count": 4,
     "metadata": {},
     "output_type": "execute_result"
    }
   ],
   "source": [
    "array_numeros = np.array([1,2,3,4,5,6,7,8,9])\n",
    "lista_numeros = [1,2,3,4,5,6,7,8,9]\n",
    "array_numeros"
   ]
  },
  {
   "cell_type": "code",
   "execution_count": 5,
   "metadata": {},
   "outputs": [
    {
     "data": {
      "text/plain": [
       "numpy.ndarray"
      ]
     },
     "execution_count": 5,
     "metadata": {},
     "output_type": "execute_result"
    }
   ],
   "source": [
    "type(array_numeros)"
   ]
  },
  {
   "cell_type": "code",
   "execution_count": 6,
   "metadata": {},
   "outputs": [
    {
     "data": {
      "text/plain": [
       "[1, 2, 3, 4, 5, 6, 7, 8, 9]"
      ]
     },
     "execution_count": 6,
     "metadata": {},
     "output_type": "execute_result"
    }
   ],
   "source": [
    "lista_numeros"
   ]
  },
  {
   "cell_type": "code",
   "execution_count": 7,
   "metadata": {},
   "outputs": [
    {
     "data": {
      "text/plain": [
       "list"
      ]
     },
     "execution_count": 7,
     "metadata": {},
     "output_type": "execute_result"
    }
   ],
   "source": [
    "type(lista_numeros)"
   ]
  },
  {
   "cell_type": "code",
   "execution_count": 8,
   "metadata": {},
   "outputs": [
    {
     "name": "stdout",
     "output_type": "stream",
     "text": [
      "45\n"
     ]
    }
   ],
   "source": [
    "# La suma de los elementos de lista_numeros? \n",
    "suma_total = 0\n",
    "for numero in lista_numeros:\n",
    "    suma_total += numero\n",
    "print(suma_total)"
   ]
  },
  {
   "cell_type": "code",
   "execution_count": 9,
   "metadata": {},
   "outputs": [
    {
     "data": {
      "text/plain": [
       "np.int64(45)"
      ]
     },
     "execution_count": 9,
     "metadata": {},
     "output_type": "execute_result"
    }
   ],
   "source": [
    "array_numeros.sum()"
   ]
  },
  {
   "cell_type": "code",
   "execution_count": 10,
   "metadata": {},
   "outputs": [
    {
     "data": {
      "text/plain": [
       "array(['a', 'b', 'c', 'd', 'e', 'f', 'g', 'h', 'i'], dtype='<U1')"
      ]
     },
     "execution_count": 10,
     "metadata": {},
     "output_type": "execute_result"
    }
   ],
   "source": [
    "array_letras = np.array([\"a\",\"b\",\"c\",\"d\",\"e\",\"f\",\"g\",\"h\",\"i\"])\n",
    "array_letras"
   ]
  },
  {
   "cell_type": "code",
   "execution_count": 11,
   "metadata": {},
   "outputs": [
    {
     "data": {
      "text/plain": [
       "array(['Hola', ',', ' ', 'Mundo...', '!!!'], dtype='<U8')"
      ]
     },
     "execution_count": 11,
     "metadata": {},
     "output_type": "execute_result"
    }
   ],
   "source": [
    "array_palabras = np.array([\"Hola\",\",\",\" \",\"Mundo...\",\"!!!\"])\n",
    "array_palabras"
   ]
  },
  {
   "cell_type": "markdown",
   "metadata": {},
   "source": [
    "**El dtype cuando trabajamos con arrays de strings nos indica el largo máximo de nuestro array**"
   ]
  },
  {
   "cell_type": "code",
   "execution_count": 15,
   "metadata": {},
   "outputs": [
    {
     "data": {
      "text/plain": [
       "array([3, 4, 5, 6])"
      ]
     },
     "execution_count": 15,
     "metadata": {},
     "output_type": "execute_result"
    }
   ],
   "source": [
    "# Slicing sobre arrays\n",
    "array_numeros[2:6]"
   ]
  },
  {
   "cell_type": "code",
   "execution_count": 16,
   "metadata": {},
   "outputs": [
    {
     "data": {
      "text/plain": [
       "array(['f', 'g', 'h', 'i'], dtype='<U1')"
      ]
     },
     "execution_count": 16,
     "metadata": {},
     "output_type": "execute_result"
    }
   ],
   "source": [
    "array_letras[5:]"
   ]
  },
  {
   "cell_type": "code",
   "execution_count": 17,
   "metadata": {},
   "outputs": [
    {
     "data": {
      "text/plain": [
       "array(['Hola', ',', ' '], dtype='<U5')"
      ]
     },
     "execution_count": 17,
     "metadata": {},
     "output_type": "execute_result"
    }
   ],
   "source": [
    "array_palabras[:3]"
   ]
  },
  {
   "cell_type": "markdown",
   "metadata": {},
   "source": [
    "## Mutabilidad y forma fija:\n",
    "\n",
    "- **El array de NumPy es mutable, lo que significa que sus elementos pueden cambiarse después de su creación. Sin embargo, la estructura de un array de NumPy (es decir, su tamaño y forma) es fija una vez que se ha creado.**"
   ]
  },
  {
   "cell_type": "code",
   "execution_count": 14,
   "metadata": {},
   "outputs": [
    {
     "data": {
      "text/plain": [
       "array([[1, 2, 3],\n",
       "       [4, 5, 6]])"
      ]
     },
     "execution_count": 14,
     "metadata": {},
     "output_type": "execute_result"
    }
   ],
   "source": [
    "# Array de dos dimensiones o matriz\n",
    "matriz = np.array([[1,2,3],\n",
    "                    [4,5,6]])\n",
    "matriz"
   ]
  },
  {
   "cell_type": "code",
   "execution_count": 13,
   "metadata": {},
   "outputs": [
    {
     "data": {
      "text/plain": [
       "(2, 2, 3)"
      ]
     },
     "execution_count": 13,
     "metadata": {},
     "output_type": "execute_result"
    }
   ],
   "source": [
    "matriz.shape"
   ]
  },
  {
   "cell_type": "code",
   "execution_count": 20,
   "metadata": {},
   "outputs": [
    {
     "data": {
      "text/plain": [
       "array([1, 2, 3, 4, 5, 6, 7, 8, 9])"
      ]
     },
     "execution_count": 20,
     "metadata": {},
     "output_type": "execute_result"
    }
   ],
   "source": [
    "array_numeros"
   ]
  },
  {
   "cell_type": "code",
   "execution_count": 21,
   "metadata": {},
   "outputs": [
    {
     "data": {
      "text/plain": [
       "(9,)"
      ]
     },
     "execution_count": 21,
     "metadata": {},
     "output_type": "execute_result"
    }
   ],
   "source": [
    "# Array tradicional - Array\n",
    "array_numeros.shape"
   ]
  },
  {
   "cell_type": "code",
   "execution_count": 60,
   "metadata": {},
   "outputs": [
    {
     "data": {
      "text/plain": [
       "(2, 3)"
      ]
     },
     "execution_count": 60,
     "metadata": {},
     "output_type": "execute_result"
    }
   ],
   "source": [
    "matriz.shape"
   ]
  },
  {
   "cell_type": "code",
   "execution_count": 16,
   "metadata": {},
   "outputs": [
    {
     "data": {
      "text/plain": [
       "array([[[1, 2, 3],\n",
       "        [4, 5, 6]],\n",
       "\n",
       "       [[7, 8, 9],\n",
       "        [0, 1, 2]]])"
      ]
     },
     "execution_count": 16,
     "metadata": {},
     "output_type": "execute_result"
    }
   ],
   "source": [
    "# Array de 3 dimensiones (o más) o Tensor\n",
    "tensor = np.array([[[1,2,3],\n",
    "                    [4,5,6]],\n",
    "                    [[7,8,9],\n",
    "                     [0,1,2]]])\n",
    "tensor"
   ]
  },
  {
   "cell_type": "code",
   "execution_count": 17,
   "metadata": {},
   "outputs": [
    {
     "data": {
      "text/plain": [
       "(2, 2, 3)"
      ]
     },
     "execution_count": 17,
     "metadata": {},
     "output_type": "execute_result"
    }
   ],
   "source": [
    "tensor.shape"
   ]
  },
  {
   "cell_type": "markdown",
   "metadata": {},
   "source": [
    "## Otras formas de crear arrays con Numpy"
   ]
  },
  {
   "cell_type": "code",
   "execution_count": 19,
   "metadata": {},
   "outputs": [
    {
     "data": {
      "text/plain": [
       "array([ 0,  3,  6,  9, 12, 15, 18, 21, 24, 27, 30, 33, 36, 39, 42, 45, 48,\n",
       "       51, 54, 57, 60, 63, 66, 69, 72, 75, 78, 81, 84, 87, 90, 93, 96, 99])"
      ]
     },
     "execution_count": 19,
     "metadata": {},
     "output_type": "execute_result"
    }
   ],
   "source": [
    "# Array en función de un rango np.arange()\n",
    "array_rango = np.arange(start=0, stop=102, step=3) # El último del stop no se incluye. Igual que en las listas! \n",
    "array_rango"
   ]
  },
  {
   "cell_type": "code",
   "execution_count": 31,
   "metadata": {},
   "outputs": [
    {
     "data": {
      "text/plain": [
       "array([  0.        ,   2.04081633,   4.08163265,   6.12244898,\n",
       "         8.16326531,  10.20408163,  12.24489796,  14.28571429,\n",
       "        16.32653061,  18.36734694,  20.40816327,  22.44897959,\n",
       "        24.48979592,  26.53061224,  28.57142857,  30.6122449 ,\n",
       "        32.65306122,  34.69387755,  36.73469388,  38.7755102 ,\n",
       "        40.81632653,  42.85714286,  44.89795918,  46.93877551,\n",
       "        48.97959184,  51.02040816,  53.06122449,  55.10204082,\n",
       "        57.14285714,  59.18367347,  61.2244898 ,  63.26530612,\n",
       "        65.30612245,  67.34693878,  69.3877551 ,  71.42857143,\n",
       "        73.46938776,  75.51020408,  77.55102041,  79.59183673,\n",
       "        81.63265306,  83.67346939,  85.71428571,  87.75510204,\n",
       "        89.79591837,  91.83673469,  93.87755102,  95.91836735,\n",
       "        97.95918367, 100.        ])"
      ]
     },
     "execution_count": 31,
     "metadata": {},
     "output_type": "execute_result"
    }
   ],
   "source": [
    "# Array en función de un rango y una cantidad de puntos en ese rango\n",
    "array_linspace = np.linspace(start=0, stop=100, num=50) # El último está incluido y la  distancia entre los puntos será equidistante\n",
    "array_linspace"
   ]
  },
  {
   "cell_type": "code",
   "execution_count": 30,
   "metadata": {},
   "outputs": [
    {
     "data": {
      "text/plain": [
       "array([54.23277786,  4.86203423, 77.94120522, 41.02360697, 74.14049834,\n",
       "       80.75506003, 96.93954194, 26.91186014, 24.11630656, 45.3426183 ,\n",
       "       29.5817123 , 50.86479971, 20.7800591 , 48.04929478, 75.48089612,\n",
       "       60.78764931, 91.05345986, 34.87289721, 50.48557179, 55.49128157,\n",
       "        1.51472561, 20.1313409 , 21.52608097, 76.1189685 , 22.40957466,\n",
       "        7.39615077,  1.31771321, 86.78505646, 63.66524645,  6.16466691,\n",
       "       61.88236809, 62.45381282, 14.69502121,  2.22905805, 23.55831046,\n",
       "       12.17101718,  4.44328004, 59.66278192, 57.67707945, 18.32309697,\n",
       "        5.85646933,  6.22570951, 13.18138823, 83.92991693, 33.3878638 ,\n",
       "       82.33979955, 96.55676394, 84.17715031,  9.97677968, 60.41904551,\n",
       "       65.03343408, 50.62536699, 58.0233609 , 26.7392397 , 56.97541507,\n",
       "       33.590064  , 91.8572723 , 46.28971651, 74.29792721, 72.97744965,\n",
       "       12.25585612, 59.70556118, 91.57428841, 34.50242804, 97.15314154,\n",
       "       96.66618571, 37.28828186, 87.4254284 , 55.30096596, 58.57298155,\n",
       "       24.24350165, 36.62857046, 94.4538909 , 71.38480536, 45.96946165,\n",
       "       14.58263714, 78.06466111, 82.23515089,  1.08007346, 97.03665078,\n",
       "       15.26912243, 58.82460616, 51.23757237, 60.92544622, 78.60107822,\n",
       "       42.03027884, 46.74364085, 35.50969385, 75.82635689, 39.19743645,\n",
       "       95.33860147, 39.19518056, 61.28026936,  5.51582718, 36.26980223,\n",
       "       69.82451431, 96.5762257 , 70.75599559, 92.26483145, 56.06367049])"
      ]
     },
     "execution_count": 30,
     "metadata": {},
     "output_type": "execute_result"
    }
   ],
   "source": [
    "# Array aleatorio relleno de floats entre ceros y unos\n",
    "matriz_aleatoria2 = np.random.rand(100) * 100\n",
    "matriz_aleatoria2"
   ]
  },
  {
   "cell_type": "code",
   "execution_count": 27,
   "metadata": {},
   "outputs": [
    {
     "data": {
      "text/plain": [
       "array([[0.30501553, 0.7780671 ],\n",
       "       [0.46476543, 0.87053855],\n",
       "       [0.12917974, 0.83106058],\n",
       "       [0.62544134, 0.54706801],\n",
       "       [0.01028178, 0.1747802 ],\n",
       "       [0.39076989, 0.17443133],\n",
       "       [0.53091564, 0.44456473],\n",
       "       [0.64473523, 0.38491141],\n",
       "       [0.8301729 , 0.1381959 ],\n",
       "       [0.06427933, 0.54834902]])"
      ]
     },
     "execution_count": 27,
     "metadata": {},
     "output_type": "execute_result"
    }
   ],
   "source": [
    "matriz_aleatoria = np.random.rand(10,2) # Matriz 10x2: 10 filas y 2 columnas\n",
    "matriz_aleatoria"
   ]
  },
  {
   "cell_type": "code",
   "execution_count": 28,
   "metadata": {},
   "outputs": [
    {
     "data": {
      "text/plain": [
       "(10, 2)"
      ]
     },
     "execution_count": 28,
     "metadata": {},
     "output_type": "execute_result"
    }
   ],
   "source": [
    "matriz_aleatoria.shape"
   ]
  },
  {
   "cell_type": "code",
   "execution_count": 29,
   "metadata": {},
   "outputs": [
    {
     "data": {
      "text/plain": [
       "array([[0.81338375, 0.88949512, 0.51419126, 0.13926694, 0.57822359,\n",
       "        0.35497232, 0.82748562, 0.08574818, 0.86218361, 0.40348448],\n",
       "       [0.63207349, 0.56468986, 0.72020343, 0.55816844, 0.54298741,\n",
       "        0.98435092, 0.50317532, 0.51020286, 0.77494691, 0.72780412]])"
      ]
     },
     "execution_count": 29,
     "metadata": {},
     "output_type": "execute_result"
    }
   ],
   "source": [
    "matriz_aleatoria2 = np.random.rand(2,10) # Matriz 2x10: 2 filas y 10 columnas\n",
    "matriz_aleatoria2"
   ]
  },
  {
   "cell_type": "markdown",
   "metadata": {},
   "source": [
    "### Mascaras!!!"
   ]
  },
  {
   "cell_type": "code",
   "execution_count": 32,
   "metadata": {},
   "outputs": [
    {
     "data": {
      "text/plain": [
       "array([54.23277786,  4.86203423, 77.94120522, 41.02360697, 74.14049834,\n",
       "       80.75506003, 96.93954194, 26.91186014, 24.11630656, 45.3426183 ,\n",
       "       29.5817123 , 50.86479971, 20.7800591 , 48.04929478, 75.48089612,\n",
       "       60.78764931, 91.05345986, 34.87289721, 50.48557179, 55.49128157,\n",
       "        1.51472561, 20.1313409 , 21.52608097, 76.1189685 , 22.40957466,\n",
       "        7.39615077,  1.31771321, 86.78505646, 63.66524645,  6.16466691,\n",
       "       61.88236809, 62.45381282, 14.69502121,  2.22905805, 23.55831046,\n",
       "       12.17101718,  4.44328004, 59.66278192, 57.67707945, 18.32309697,\n",
       "        5.85646933,  6.22570951, 13.18138823, 83.92991693, 33.3878638 ,\n",
       "       82.33979955, 96.55676394, 84.17715031,  9.97677968, 60.41904551,\n",
       "       65.03343408, 50.62536699, 58.0233609 , 26.7392397 , 56.97541507,\n",
       "       33.590064  , 91.8572723 , 46.28971651, 74.29792721, 72.97744965,\n",
       "       12.25585612, 59.70556118, 91.57428841, 34.50242804, 97.15314154,\n",
       "       96.66618571, 37.28828186, 87.4254284 , 55.30096596, 58.57298155,\n",
       "       24.24350165, 36.62857046, 94.4538909 , 71.38480536, 45.96946165,\n",
       "       14.58263714, 78.06466111, 82.23515089,  1.08007346, 97.03665078,\n",
       "       15.26912243, 58.82460616, 51.23757237, 60.92544622, 78.60107822,\n",
       "       42.03027884, 46.74364085, 35.50969385, 75.82635689, 39.19743645,\n",
       "       95.33860147, 39.19518056, 61.28026936,  5.51582718, 36.26980223,\n",
       "       69.82451431, 96.5762257 , 70.75599559, 92.26483145, 56.06367049])"
      ]
     },
     "execution_count": 32,
     "metadata": {},
     "output_type": "execute_result"
    }
   ],
   "source": [
    "matriz_aleatoria2"
   ]
  },
  {
   "cell_type": "code",
   "execution_count": 34,
   "metadata": {},
   "outputs": [
    {
     "data": {
      "text/plain": [
       "array([ True, False,  True, False,  True,  True,  True, False, False,\n",
       "       False, False,  True, False, False,  True,  True,  True, False,\n",
       "        True,  True, False, False, False,  True, False, False, False,\n",
       "        True,  True, False,  True,  True, False, False, False, False,\n",
       "       False,  True,  True, False, False, False, False,  True, False,\n",
       "        True,  True,  True, False,  True,  True,  True,  True, False,\n",
       "        True, False,  True, False,  True,  True, False,  True,  True,\n",
       "       False,  True,  True, False,  True,  True,  True, False, False,\n",
       "        True,  True, False, False,  True,  True, False,  True, False,\n",
       "        True,  True,  True,  True, False, False, False,  True, False,\n",
       "        True, False,  True, False, False,  True,  True,  True,  True,\n",
       "        True])"
      ]
     },
     "execution_count": 34,
     "metadata": {},
     "output_type": "execute_result"
    }
   ],
   "source": [
    "# Quiero saber que valores son mayores a 50 en mi array (Mascaras)\n",
    "mascara_mayor_50 = matriz_aleatoria2 > 50\n",
    "mascara_mayor_50"
   ]
  },
  {
   "cell_type": "code",
   "execution_count": 35,
   "metadata": {},
   "outputs": [
    {
     "data": {
      "text/plain": [
       "array([54.23277786, 77.94120522, 74.14049834, 80.75506003, 96.93954194,\n",
       "       50.86479971, 75.48089612, 60.78764931, 91.05345986, 50.48557179,\n",
       "       55.49128157, 76.1189685 , 86.78505646, 63.66524645, 61.88236809,\n",
       "       62.45381282, 59.66278192, 57.67707945, 83.92991693, 82.33979955,\n",
       "       96.55676394, 84.17715031, 60.41904551, 65.03343408, 50.62536699,\n",
       "       58.0233609 , 56.97541507, 91.8572723 , 74.29792721, 72.97744965,\n",
       "       59.70556118, 91.57428841, 97.15314154, 96.66618571, 87.4254284 ,\n",
       "       55.30096596, 58.57298155, 94.4538909 , 71.38480536, 78.06466111,\n",
       "       82.23515089, 97.03665078, 58.82460616, 51.23757237, 60.92544622,\n",
       "       78.60107822, 75.82635689, 95.33860147, 61.28026936, 69.82451431,\n",
       "       96.5762257 , 70.75599559, 92.26483145, 56.06367049])"
      ]
     },
     "execution_count": 35,
     "metadata": {},
     "output_type": "execute_result"
    }
   ],
   "source": [
    "matriz_aleatoria2[mascara_mayor_50] # Uso la máscara para filtrar. Será clave en Pandas para trabajar con DataFrames! "
   ]
  },
  {
   "cell_type": "code",
   "execution_count": 36,
   "metadata": {},
   "outputs": [
    {
     "data": {
      "text/plain": [
       "array([ 4.86203423, 41.02360697, 26.91186014, 24.11630656, 45.3426183 ,\n",
       "       29.5817123 , 20.7800591 , 48.04929478, 34.87289721,  1.51472561,\n",
       "       20.1313409 , 21.52608097, 22.40957466,  7.39615077,  1.31771321,\n",
       "        6.16466691, 14.69502121,  2.22905805, 23.55831046, 12.17101718,\n",
       "        4.44328004, 18.32309697,  5.85646933,  6.22570951, 13.18138823,\n",
       "       33.3878638 ,  9.97677968, 26.7392397 , 33.590064  , 46.28971651,\n",
       "       12.25585612, 34.50242804, 37.28828186, 24.24350165, 36.62857046,\n",
       "       45.96946165, 14.58263714,  1.08007346, 15.26912243, 42.03027884,\n",
       "       46.74364085, 35.50969385, 39.19743645, 39.19518056,  5.51582718,\n",
       "       36.26980223])"
      ]
     },
     "execution_count": 36,
     "metadata": {},
     "output_type": "execute_result"
    }
   ],
   "source": [
    "matriz_aleatoria2[~mascara_mayor_50]"
   ]
  },
  {
   "cell_type": "markdown",
   "metadata": {},
   "source": [
    "**Aqui podemos comenzar a ver la efectividad y el consumo de recursos optimizado en numpy. Con una lista esto lo tendriamos que haber verificado recorriendo 1 a 1 los valores en un ciclo y creando una nueva lista que contenga los valores.**"
   ]
  },
  {
   "cell_type": "code",
   "execution_count": 37,
   "metadata": {},
   "outputs": [],
   "source": [
    "lista = [28.42977146, 55.9853604 ,  4.15931689,  6.11119903, 59.20436593,\n",
    "        71.30530611, 17.12506507, 19.70496054, 34.1857518 , 33.37139652]"
   ]
  },
  {
   "cell_type": "code",
   "execution_count": 38,
   "metadata": {},
   "outputs": [
    {
     "ename": "TypeError",
     "evalue": "'>' not supported between instances of 'list' and 'int'",
     "output_type": "error",
     "traceback": [
      "\u001b[0;31m---------------------------------------------------------------------------\u001b[0m",
      "\u001b[0;31mTypeError\u001b[0m                                 Traceback (most recent call last)",
      "Cell \u001b[0;32mIn[38], line 1\u001b[0m\n\u001b[0;32m----> 1\u001b[0m \u001b[43mlista\u001b[49m\u001b[43m \u001b[49m\u001b[38;5;241;43m>\u001b[39;49m\u001b[43m \u001b[49m\u001b[38;5;241;43m50\u001b[39;49m\n",
      "\u001b[0;31mTypeError\u001b[0m: '>' not supported between instances of 'list' and 'int'"
     ]
    }
   ],
   "source": [
    "lista > 50"
   ]
  },
  {
   "cell_type": "code",
   "execution_count": 42,
   "metadata": {},
   "outputs": [
    {
     "data": {
      "text/plain": [
       "[28.42977146,\n",
       " 55.9853604,\n",
       " 4.15931689,\n",
       " 6.11119903,\n",
       " 59.20436593,\n",
       " 71.30530611,\n",
       " 17.12506507,\n",
       " 19.70496054,\n",
       " 34.1857518,\n",
       " 33.37139652]"
      ]
     },
     "execution_count": 42,
     "metadata": {},
     "output_type": "execute_result"
    }
   ],
   "source": [
    "lista"
   ]
  },
  {
   "cell_type": "code",
   "execution_count": 40,
   "metadata": {},
   "outputs": [
    {
     "data": {
      "text/plain": [
       "[False, True, False, False, True, True, False, False, False, False]"
      ]
     },
     "execution_count": 40,
     "metadata": {},
     "output_type": "execute_result"
    }
   ],
   "source": [
    "boolean_list = []\n",
    "for numero in lista:\n",
    "    if numero > 50:\n",
    "        boolean_list.append(True)\n",
    "    else:\n",
    "        boolean_list.append(False)\n",
    "boolean_list"
   ]
  },
  {
   "cell_type": "code",
   "execution_count": 43,
   "metadata": {},
   "outputs": [
    {
     "name": "stdout",
     "output_type": "stream",
     "text": [
      "[28.42977146, 4.15931689, 6.11119903, 17.12506507, 19.70496054, 34.1857518, 33.37139652]\n",
      "[55.9853604, 59.20436593, 71.30530611]\n"
     ]
    }
   ],
   "source": [
    "lista_mayores_50 = []\n",
    "lista_menores_50 = []\n",
    "for numero, boolean in zip(lista, boolean_list):\n",
    "    if boolean == True:\n",
    "        lista_mayores_50.append(numero)\n",
    "    else:\n",
    "        lista_menores_50.append(numero)\n",
    "print(lista_menores_50)\n",
    "print(lista_mayores_50)"
   ]
  },
  {
   "cell_type": "code",
   "execution_count": null,
   "metadata": {},
   "outputs": [
    {
     "data": {
      "text/plain": [
       "array([[[0.8410118 , 0.97247134, 0.36163605],\n",
       "        [0.37158435, 0.98336949, 0.93363004],\n",
       "        [0.83074385, 0.1162108 , 0.04192542]],\n",
       "\n",
       "       [[0.75258593, 0.58527701, 0.35259544],\n",
       "        [0.56198904, 0.3831254 , 0.31049587],\n",
       "        [0.48413335, 0.84387341, 0.57318279]],\n",
       "\n",
       "       [[0.11117456, 0.52436694, 0.76565245],\n",
       "        [0.94809957, 0.34127063, 0.61519737],\n",
       "        [0.4322454 , 0.08678264, 0.9307859 ]]])"
      ]
     },
     "execution_count": 37,
     "metadata": {},
     "output_type": "execute_result"
    }
   ],
   "source": [
    "tensor_aleatorio = np.random.rand(3,3,3)\n",
    "tensor_aleatorio"
   ]
  },
  {
   "cell_type": "code",
   "execution_count": 83,
   "metadata": {},
   "outputs": [
    {
     "data": {
      "text/plain": [
       "array([-5.16785763e-01,  2.43972728e-01,  2.19281816e+00, -8.61861419e-01,\n",
       "        9.22352917e-01, -1.45910202e+00,  1.93324993e+00,  1.06193490e+00,\n",
       "        4.57952624e-01,  3.49724045e-01,  2.80232902e-02, -1.34891445e+00,\n",
       "        5.98172984e-01, -7.52227297e-01, -4.04771318e-01, -4.39135430e-01,\n",
       "       -5.47891793e-01, -6.37779164e-01, -3.47013539e-01, -1.34152642e+00,\n",
       "        1.66586691e-01, -1.19165298e+00, -9.27000439e-01, -2.35891481e-01,\n",
       "        5.11713161e-01,  1.07863955e+00,  2.41872759e-01,  2.88420507e-01,\n",
       "        4.48135228e-01, -8.13964506e-01, -4.39111022e-01,  9.86791344e-01,\n",
       "        1.04501425e+00,  5.09208395e-01, -1.06605800e+00,  5.88762000e-01,\n",
       "        4.50860104e-01,  1.62847580e+00, -3.10709831e-01, -1.30450495e+00,\n",
       "       -1.15618432e-01,  1.31918050e+00, -1.29124207e+00, -6.17216525e-01,\n",
       "       -1.57594071e+00, -5.97710188e-01, -1.42507006e+00, -9.19823864e-01,\n",
       "       -3.18884358e-02, -5.44346571e-01,  3.62841569e-01, -7.47257915e-01,\n",
       "        1.93040602e+00, -2.26192518e-01,  1.09834313e+00,  4.42807813e-01,\n",
       "        1.45124574e+00, -3.78498371e-01, -6.64202566e-01,  5.43947620e-01,\n",
       "       -5.99707175e-01, -9.93958219e-01, -6.01414886e-01, -1.71548207e+00,\n",
       "       -1.73690410e-01,  1.84229574e+00,  6.11096983e-01,  8.27057762e-02,\n",
       "       -4.33991387e-01,  1.77571772e+00, -5.66050748e-01, -4.34441334e-03,\n",
       "        2.20024500e+00, -1.77919781e-02, -2.32534221e+00,  1.52745928e+00,\n",
       "       -6.31506629e-01, -8.77509284e-01,  9.30516517e-02,  8.41983197e-01,\n",
       "        2.57329261e-01, -4.87512021e-01, -6.53331211e-01,  1.45974417e+00,\n",
       "        1.57435993e+00,  4.94369674e-01, -2.96325762e-01, -1.56324654e+00,\n",
       "       -2.74016992e-01,  4.26354111e-01, -9.45910881e-01,  3.55705104e-01,\n",
       "       -1.24805998e+00,  2.56776173e-01,  3.12846159e-01, -1.36495323e+00,\n",
       "       -4.60910878e-01, -7.47038110e-01, -6.87949063e-01, -9.08410550e-01,\n",
       "       -6.30463864e-01, -3.39651424e-01, -2.22570580e+00, -1.12282472e+00,\n",
       "       -7.17961719e-02, -1.29078303e-01,  1.55900038e+00,  7.29915389e-01,\n",
       "        4.01444800e-01, -1.44369288e+00, -2.66523354e+00,  8.01016549e-01,\n",
       "        8.38041249e-01, -5.82339923e-02, -1.22355656e+00, -9.49544365e-01,\n",
       "       -3.33709528e-01,  2.27924194e+00, -6.49567814e-01, -5.73846108e-01,\n",
       "       -9.49830021e-01, -6.59424482e-01,  7.37571872e-02,  7.85708449e-01,\n",
       "       -5.01896728e-02, -2.50093427e-02, -1.35314727e-01,  4.84326706e-01,\n",
       "        1.71613803e+00, -4.74290458e-01, -3.66791047e-01, -3.98914666e-01,\n",
       "       -2.51655263e-01,  4.63569291e-02, -8.85643056e-02, -4.35928873e-01,\n",
       "        1.07992547e+00, -1.42669161e+00, -1.37355948e-01, -1.58702706e+00,\n",
       "       -8.97750555e-01,  6.27268765e-01,  1.41930200e+00, -1.17095864e+00,\n",
       "        1.02014051e+00, -1.69799722e+00, -4.63097346e-01, -3.83104475e-01,\n",
       "        1.95973605e+00,  7.83726415e-02,  1.99427412e-01,  4.16707673e-01,\n",
       "       -8.65029922e-01, -2.60526453e-01, -5.30901571e-01, -5.60468224e-01,\n",
       "        1.58290482e+00, -1.04109633e+00,  5.74132116e-01, -9.69519864e-01,\n",
       "        1.09467921e+00, -9.21704648e-01,  1.30435580e+00, -9.68871565e-01,\n",
       "       -5.85853112e-01,  2.33713411e-01,  2.92698896e-01,  4.76537251e-01,\n",
       "       -2.89993645e-01, -9.49667301e-01,  1.17939138e+00,  8.09683037e-01,\n",
       "        7.83559224e-01, -4.89681869e-01,  8.28151225e-01,  8.46161543e-01,\n",
       "       -7.83956975e-01, -4.59864134e-01,  3.51682966e-01,  7.11878236e-02,\n",
       "        5.31238623e-01,  1.44931500e+00, -6.77426837e-01, -3.78412562e-01,\n",
       "       -2.68803048e-02,  2.32922242e-01,  1.03934845e-01,  6.66733044e-01,\n",
       "        6.89962573e-02, -8.67408926e-01, -8.78148098e-01,  8.31428839e-01,\n",
       "        7.80599449e-01,  2.14599394e+00, -8.78576558e-01, -1.18570983e+00,\n",
       "        3.43310291e-01,  5.65878925e-01, -1.28186097e+00, -4.73492334e-01,\n",
       "       -9.00826181e-01, -5.14207621e-01, -9.09964968e-01, -5.25397097e-01,\n",
       "        5.83256280e-01,  1.42694382e+00, -3.03836390e+00, -3.71648599e-01,\n",
       "       -1.41974266e+00, -2.80711379e+00,  1.12809167e+00, -9.31997673e-02,\n",
       "       -1.21624326e+00, -1.62544128e-01,  5.78443561e-01,  2.16813938e+00,\n",
       "       -3.49182888e-01,  8.45907241e-01,  2.20461726e+00, -5.55252621e-01,\n",
       "        1.11759166e+00, -1.26041640e+00,  5.45437250e-01, -8.24971978e-01,\n",
       "       -2.31539717e-01,  1.92259698e+00,  7.74076660e-01, -1.16321315e-01,\n",
       "        4.53101292e-01,  1.07673957e+00,  1.03886480e+00,  5.24580213e-01,\n",
       "        1.34520297e-01, -1.24126557e-01, -1.04780270e+00, -7.28101031e-01,\n",
       "       -1.35020381e+00,  1.04033598e+00, -1.27088607e+00, -9.03161858e-01,\n",
       "        1.78525983e+00,  1.01001704e+00,  5.72546052e-02,  1.91971756e+00,\n",
       "        9.08914512e-01,  1.12883229e+00,  5.36559009e-01, -4.93514826e-01,\n",
       "        1.00918536e+00, -1.82246551e+00,  9.95885612e-01, -8.08359124e-01,\n",
       "        1.33377778e+00,  3.84889454e-01,  1.15295857e+00,  2.40753953e-01,\n",
       "        8.81191424e-01, -8.23342433e-01, -2.07558531e+00, -1.14516568e-01,\n",
       "       -4.11272711e-01,  1.29727501e+00, -3.45280487e-01, -1.90967300e+00,\n",
       "       -1.61621106e+00,  9.70197814e-01,  9.42709003e-01, -1.44950657e+00,\n",
       "       -1.16733599e+00, -7.02952079e-01, -7.18827731e-01, -5.70610793e-01,\n",
       "        8.60230271e-01,  1.03404250e-01, -2.49993280e+00, -5.13293796e-01,\n",
       "       -1.58188894e-01, -1.97850902e-01, -2.44799784e-01, -8.24253745e-01,\n",
       "        2.80298639e-01,  3.62691363e-01, -1.26389658e-01, -9.51304847e-01,\n",
       "       -2.62845030e-01, -1.29209449e+00,  1.00423221e+00,  1.35318230e+00,\n",
       "        1.40542655e-01, -1.37965179e+00, -5.02255400e-01,  8.30771872e-01,\n",
       "        1.76760093e+00,  2.69104657e-01, -4.05853688e-01,  4.55962244e-01,\n",
       "       -5.05349323e-01,  7.05126541e-01,  1.27862929e+00,  1.10481741e+00,\n",
       "       -3.88567162e-01, -3.90597849e-01,  1.01213956e+00,  2.10659494e+00,\n",
       "        2.05512738e-01,  1.23385644e+00,  6.80566969e-01,  3.51301788e-02,\n",
       "       -9.75713334e-01,  1.15849957e+00,  1.53558247e+00,  1.23152092e+00,\n",
       "        6.29386416e-01, -1.22780590e+00, -3.79036941e-02, -4.65022732e-02,\n",
       "        2.88155782e+00,  2.21607099e-01, -1.71013479e-01, -5.31729957e-01,\n",
       "        8.23919058e-01, -1.69186405e-01,  6.82430472e-01, -1.03501844e+00,\n",
       "        7.31493339e-01,  4.30927439e-01, -7.83713047e-01,  7.89475823e-01,\n",
       "       -5.84411762e-01,  2.12054808e+00,  1.63822730e-01, -1.01990540e+00,\n",
       "       -1.30257790e+00,  1.72707862e-01, -2.19287594e-01, -1.30715417e+00,\n",
       "       -1.09776057e-01,  4.97190677e-02,  4.24265407e-01, -6.66686480e-01,\n",
       "        2.93682813e-01,  1.54758720e+00,  2.38416667e+00, -1.24702838e+00,\n",
       "       -1.68714548e-01, -4.47838511e-02, -8.88639064e-01,  1.00510264e+00,\n",
       "       -2.42053418e-01, -1.03862052e+00,  8.31416381e-01,  8.65569243e-01,\n",
       "        2.03158667e+00,  8.61349708e-01, -2.40712834e+00,  6.68577686e-04,\n",
       "        1.20176460e+00,  1.06879321e+00,  9.35592492e-01, -6.67674384e-01,\n",
       "       -8.77813022e-01, -1.16237421e+00,  7.87784529e-01, -3.02713577e-01,\n",
       "       -7.33556581e-01,  2.17360077e+00, -8.13043957e-01, -1.76788266e-01,\n",
       "        1.95547663e+00,  1.12227797e+00,  6.57834821e-02,  4.97159710e-01,\n",
       "        5.71060181e-01, -1.09810396e-01, -4.39538297e-01,  4.70625356e-01,\n",
       "       -2.12210136e-01, -1.49898968e+00, -5.20717246e-01, -7.34893838e-01,\n",
       "        6.55847443e-01, -6.40426295e-01, -1.55369490e+00,  2.16737174e-01,\n",
       "       -2.73023705e-01, -1.99934862e+00,  4.57432646e-02, -7.74136449e-01,\n",
       "       -8.41866869e-02, -2.31515127e-01,  6.89106218e-01, -1.46968145e+00,\n",
       "       -1.42412183e+00, -1.48242880e-01, -1.47792639e+00,  4.12709446e-01,\n",
       "        1.44606290e+00, -6.23101055e-01,  1.36722110e+00, -5.34494623e-01,\n",
       "        2.54344838e-01, -3.28785763e-01,  2.04177036e+00,  2.14292520e-01,\n",
       "       -5.92893477e-01, -5.97491082e-01,  1.89028095e-01,  4.27868285e-01,\n",
       "        3.61383714e-02, -6.39676948e-01,  5.01128532e-01,  8.40118636e-03,\n",
       "        2.75584134e-01,  1.53436399e+00,  3.22335602e-01, -2.96300619e+00,\n",
       "        2.24481622e-01, -4.49231331e-01,  8.34567186e-02,  1.25326380e+00,\n",
       "        8.16279145e-01,  1.07802843e+00,  1.36578774e+00, -1.00427115e+00,\n",
       "       -2.15676706e-01,  6.89119936e-01,  4.54011359e-01, -1.56125277e+00,\n",
       "        2.30579530e+00, -2.40027014e-01,  2.28756591e+00,  1.35763073e+00,\n",
       "       -1.39307201e+00,  9.93761216e-01,  5.66913619e-01,  1.21943903e+00,\n",
       "        9.72471157e-02,  4.34194609e-01,  1.61133366e-01, -9.91270311e-01,\n",
       "       -1.56686998e-01, -5.28884798e-02, -2.09813898e+00,  1.56726823e+00,\n",
       "        1.96214012e-01,  3.55684971e-01, -1.05301296e+00,  4.24691346e-01,\n",
       "       -5.39264886e-01,  7.95527547e-01, -1.46662455e+00,  1.48953296e+00,\n",
       "       -9.67245806e-01, -1.91749678e-01,  5.46618453e-02,  7.01310917e-01,\n",
       "        4.95117455e-01, -2.60872708e-01, -3.75746179e-01, -8.19382937e-01,\n",
       "        9.12586252e-01, -1.72704303e+00,  2.56361349e-01,  1.23367544e+00,\n",
       "        1.44286991e+00, -7.36145517e-01,  3.01785095e-01,  4.15235036e-01,\n",
       "        9.42063738e-01,  1.21277523e-01, -2.34180996e-01,  1.00290695e+00,\n",
       "        3.09403827e-01, -6.14239767e-01, -9.77953415e-01,  1.04501261e+00,\n",
       "       -1.40332549e+00, -1.78310407e+00,  6.90984144e-01,  3.10981838e-01,\n",
       "       -1.17025699e+00,  1.21656998e+00, -9.02903532e-01,  7.67085512e-01,\n",
       "       -5.93816350e-01,  1.31694142e+00, -7.82353830e-02, -2.10019477e-01,\n",
       "       -1.45505121e+00, -7.07603559e-01, -7.25299668e-01,  8.66420567e-01,\n",
       "        6.20836622e-01, -1.57522588e+00,  3.80946321e-01,  5.06084080e-01,\n",
       "        2.59943482e-01, -9.76635045e-01, -7.24806979e-01,  7.35735998e-01,\n",
       "       -1.08366415e+00,  3.96582969e-01, -4.00516403e-01,  3.24679766e-01,\n",
       "        1.41484779e+00,  4.46752015e-01,  8.62931697e-01, -1.10477572e+00,\n",
       "       -1.56778362e+00,  4.07490736e-01,  8.54989967e-01, -4.44616814e-01,\n",
       "       -6.45327074e-01,  1.95611117e-01,  4.58238967e-01, -1.35775693e+00,\n",
       "        3.85762594e-02, -2.74003903e-01,  6.58095166e-01, -3.66099768e-01,\n",
       "        1.00770176e+00, -1.17572705e+00, -1.45067453e+00, -1.31315557e-01,\n",
       "       -9.69896006e-01, -7.17310427e-01,  1.59906931e-01,  3.08729182e-02,\n",
       "       -9.93519138e-01, -4.06346720e-01,  2.31577572e+00,  3.53233425e-01,\n",
       "       -5.05207330e-01, -1.29540336e+00,  4.15472545e-01,  3.35479881e-01,\n",
       "        1.31520778e+00,  9.33990443e-01,  5.67863919e-01, -6.23536934e-01,\n",
       "       -9.96617938e-01,  1.51305399e+00, -1.26296656e+00,  1.14122784e+00,\n",
       "        4.55327957e-01, -7.74018333e-01,  5.29131631e-02,  1.45247071e+00,\n",
       "       -4.92727623e-01,  7.64919641e-01,  1.51956253e+00,  3.21314144e-01,\n",
       "        2.07645835e+00, -7.34671053e-01, -1.24372129e+00, -1.02792100e+00,\n",
       "       -7.42999952e-02, -1.23513553e+00, -8.22104123e-01, -6.58816299e-01,\n",
       "        1.24657838e+00,  1.20003513e-01,  9.68835764e-01,  4.27287462e-01,\n",
       "        7.91061671e-01,  5.98288194e-01, -1.70903425e+00, -9.68051959e-01,\n",
       "       -1.66298458e-01,  9.24928021e-01,  3.23168915e-02,  5.00687445e-02,\n",
       "        2.51605162e-01, -9.79590171e-01,  3.84820661e-01, -1.37164696e+00,\n",
       "       -6.33563161e-02, -1.08454817e+00,  3.52362155e-01, -2.52576319e-01,\n",
       "       -5.63371158e-02,  8.90307990e-01,  4.84201316e-01, -8.48198600e-01,\n",
       "       -1.11427818e+00,  1.13542674e+00,  9.96686776e-01, -5.25039761e-01,\n",
       "        1.22849291e-01, -7.26502370e-01, -1.14234395e+00,  2.59666009e-01,\n",
       "        8.04945924e-01, -3.74392507e-01, -6.94983586e-01,  3.62239343e-01,\n",
       "       -5.41117837e-01,  6.30807533e-01, -4.64406055e-02,  9.31030825e-01,\n",
       "       -1.03825390e+00,  4.16053501e-01, -5.29794982e-01, -4.87234839e-01,\n",
       "        5.08335596e-01,  1.48585296e+00, -9.87549566e-01,  1.03212259e+00,\n",
       "        5.00804068e-01,  4.14598344e-01,  1.04771672e+00,  2.05588146e-01,\n",
       "        3.83597567e-01,  4.59911981e-01,  2.53591925e+00,  1.65474592e-01,\n",
       "       -6.94062759e-01,  5.19963039e-01,  1.75113167e-02, -1.62171007e+00,\n",
       "        1.41677009e-01,  6.06069366e-01,  1.47661571e+00,  7.77749448e-02,\n",
       "       -1.02667207e-01,  2.18471952e+00,  1.15202303e+00,  5.12945862e-01,\n",
       "        1.21080015e-01,  3.00806347e-01, -6.30693057e-01, -3.13648872e-01,\n",
       "       -7.30206682e-01, -8.03445931e-01,  1.08029238e-01, -7.21531623e-01,\n",
       "        8.04155460e-01, -4.12425769e-01, -5.50951375e-02, -2.34132074e-02,\n",
       "       -2.30656790e-01,  5.71341960e-01,  1.56831328e+00, -7.55187762e-01,\n",
       "       -4.52006922e-01,  8.18180597e-01,  1.09230063e-01,  3.11511553e-01,\n",
       "       -8.86905442e-01, -1.06945306e+00, -1.80957740e+00,  8.99200988e-01,\n",
       "       -4.70315114e-01,  4.64697177e-01, -1.88306649e-01,  2.41357656e+00,\n",
       "       -3.32835557e-02, -4.61313441e-01,  1.14903452e+00,  1.18777154e-01,\n",
       "       -6.83575792e-02, -1.06020283e+00,  8.08703544e-01,  9.74631502e-02,\n",
       "        9.14590764e-02,  1.50060749e+00, -1.10407931e+00, -4.84518499e-01,\n",
       "       -2.89530786e-01, -4.20928438e-01,  8.66066476e-01, -9.01322517e-01,\n",
       "        4.16902529e-01,  6.53713281e-01, -4.77133085e-01, -1.61811582e+00,\n",
       "       -5.30971425e-01,  1.03853375e+00,  1.50061241e+00,  1.19291597e+00,\n",
       "        9.11708676e-01, -5.91304158e-01,  1.00190761e-01, -7.21433002e-01,\n",
       "       -1.28486402e+00,  8.00664889e-01,  2.00668783e-01, -5.39901917e-02,\n",
       "        1.66931526e+00, -4.36511849e-01,  1.21321560e+00, -1.48231560e+00,\n",
       "        9.27717084e-01,  8.65577297e-01,  8.31673368e-03, -2.35644932e-01,\n",
       "        2.01556094e-01,  4.73976245e-01,  2.43008532e-01,  3.25859121e-01,\n",
       "        1.16608776e+00, -2.09447863e+00, -7.23693630e-01,  5.05076066e-01,\n",
       "       -1.66101787e+00,  3.37874305e-01,  6.89144655e-01,  3.10100316e-01,\n",
       "        3.56673527e-01, -6.86073673e-01, -4.27438080e-01, -9.90032490e-02,\n",
       "        1.26935284e+00, -3.45521943e-01,  6.35399370e-01, -3.40699269e-01,\n",
       "       -6.03178218e-01,  7.46045390e-02,  5.54479083e-01, -5.47873100e-01,\n",
       "       -7.38043102e-01,  3.19371275e-01, -1.16485642e-01,  2.70281103e-01,\n",
       "       -9.44476480e-01,  7.41508205e-01,  6.31597317e-01,  1.87311601e+00,\n",
       "        2.15645046e+00,  1.23571664e+00, -7.09565075e-02,  7.15513136e-01,\n",
       "       -1.06775871e+00,  8.99494799e-01,  5.49124036e-01, -9.33189221e-01,\n",
       "        6.34409318e-01, -6.86092459e-01, -9.00288059e-01, -1.55755214e+00,\n",
       "       -4.29077031e-01,  9.17775524e-01, -5.67065621e-02, -1.39921190e+00,\n",
       "        1.48942772e+00,  5.30678645e-01,  1.27131766e+00, -1.86335567e-01,\n",
       "       -1.64049405e+00,  2.28434229e+00,  6.27347071e-01, -3.23018353e-01,\n",
       "       -7.76345473e-01, -1.72993910e+00,  5.86334506e-01,  2.08187401e+00,\n",
       "       -8.26943648e-01, -1.54518192e-01,  1.74599645e-02, -5.04192125e-01,\n",
       "       -8.78339014e-01,  5.28148528e-01, -4.38606159e-01,  1.98971124e-01,\n",
       "       -6.04276524e-01,  1.54263018e+00,  1.17340015e+00, -2.57114144e-01,\n",
       "       -3.96437788e-01, -1.00704969e-02, -1.98593054e-01,  1.92091359e-01,\n",
       "        1.28777639e+00, -4.13511863e-01, -8.03466304e-01, -7.42214873e-02,\n",
       "       -1.10290870e-01,  9.82714977e-02, -7.97949477e-01, -1.59761023e+00,\n",
       "        5.93456352e-01, -1.00189595e+00,  8.43153970e-01,  1.29884169e+00,\n",
       "       -9.49810941e-01,  3.75825348e-01, -1.74724140e-01, -7.24815088e-01,\n",
       "       -5.70006578e-01,  7.37611317e-01, -7.67424703e-01,  1.04140109e+00,\n",
       "       -1.27202011e+00, -5.66914982e-01, -1.13506904e-01, -3.09072891e-01,\n",
       "       -1.69592307e+00,  5.01053121e-01,  5.27111331e-01,  1.28503104e+00,\n",
       "       -2.75048528e-01, -6.40003860e-01, -1.81080041e-01,  2.26007375e-01,\n",
       "       -6.52513595e-02, -6.48074058e-01, -1.27493140e-01,  1.58972500e-01,\n",
       "        4.89520553e-01,  9.96965436e-01,  6.05744399e-01, -2.79280587e-01,\n",
       "        6.69818168e-01,  5.12279939e-01, -8.92867356e-02,  9.75005582e-02,\n",
       "        8.14855872e-01,  9.56984660e-01, -7.88832011e-01,  3.83429551e-01,\n",
       "        3.26152178e-01,  4.80249206e-01,  1.34388562e+00, -2.20549733e+00,\n",
       "        1.36618346e+00, -1.00835168e+00,  3.41858446e-01,  9.39193296e-01,\n",
       "        6.53903881e-01, -2.85251457e-01, -1.22167924e-01, -5.71697216e-01,\n",
       "        3.58562126e-01, -1.50807198e+00,  8.14534717e-01,  4.93025809e-01,\n",
       "       -6.67522079e-01, -9.09384193e-02, -8.51033309e-01, -2.10989694e+00,\n",
       "       -8.61698323e-01, -2.11285526e+00, -2.40982321e+00, -2.59433472e-01,\n",
       "       -9.85744209e-01, -9.57857037e-01, -1.08834938e+00, -8.19482637e-01,\n",
       "       -1.14683096e-01, -1.27021660e+00,  1.57066616e+00, -4.39481503e-01,\n",
       "        4.73722084e-01,  3.77052409e-01, -2.72265926e-01, -1.51697255e+00,\n",
       "       -2.79179917e-01, -1.08594742e-01,  8.95210815e-02, -1.04667610e-01,\n",
       "        4.16703423e-01,  9.44861687e-01, -9.81821300e-01, -1.74357248e-01,\n",
       "        6.17815499e-01, -7.00881840e-01,  1.32062352e-01, -1.66808464e+00,\n",
       "       -1.34247689e+00, -8.25533724e-01, -1.20626950e+00,  9.25466052e-01,\n",
       "       -6.15263053e-01, -1.61115314e+00,  1.07653002e+00,  9.38562356e-01,\n",
       "        4.06648951e-01, -7.68104741e-01, -2.96354630e-01, -1.91871779e-01,\n",
       "        1.31274316e+00, -3.91901354e-01,  3.40889494e-01, -6.01726135e-02,\n",
       "        4.89045763e-02,  5.59442928e-01, -1.80363884e+00,  3.93651217e-01,\n",
       "       -4.27295043e-01,  9.42473458e-01,  1.16994897e+00, -4.99805270e-01,\n",
       "        5.24518450e-01,  4.07084422e-01,  2.04273064e-01, -1.70200505e+00,\n",
       "        1.16121647e+00,  1.43868427e+00,  1.43595268e+00,  3.11451771e-01,\n",
       "       -1.51298192e+00, -5.51346920e-01, -5.16512495e-01,  1.04570332e+00,\n",
       "       -1.31129317e+00,  1.15663548e+00, -7.12585146e-01, -1.20465977e+00,\n",
       "        5.55242161e-01, -1.64995815e-01,  3.84017974e-01, -1.43992480e+00,\n",
       "       -2.19427423e-01,  4.16471149e+00,  1.38885123e+00,  1.64056180e+00,\n",
       "        1.53694213e+00,  2.50891240e+00, -7.35873117e-01, -2.26867849e-01,\n",
       "        6.70980549e-01, -1.60699549e+00,  1.59374309e+00, -4.62532445e-01,\n",
       "        1.59471284e+00,  3.43975936e-01,  1.51700758e+00, -2.68067573e+00,\n",
       "       -2.90237489e-01,  2.34479756e-01,  5.05372429e-01, -3.47221315e-01,\n",
       "        1.63959248e+00,  1.24398635e+00,  1.23299896e+00,  1.71548637e+00,\n",
       "        4.35978109e-01, -3.91640294e-01, -6.51407314e-01, -2.43433870e+00,\n",
       "        9.44114183e-01,  5.30540420e-01,  4.81051549e-01, -1.90240446e-01,\n",
       "       -2.81366772e-01,  5.21994741e-01,  5.60468335e-01, -1.73351025e+00,\n",
       "       -8.36823449e-01, -1.56249167e+00, -1.21388171e+00,  4.25445808e-01,\n",
       "       -1.58494705e+00,  3.28179673e-01,  3.82572233e-01,  1.01847305e-02,\n",
       "        2.14020627e+00, -6.87590330e-01,  1.22736566e+00,  1.26467499e-01,\n",
       "       -6.00535711e-01, -2.88029418e-01, -9.75081040e-01,  1.63273908e+00,\n",
       "        3.49091464e-01, -3.71621895e-01,  8.80845253e-01,  1.84752507e+00,\n",
       "       -1.33642641e+00, -1.73239696e+00, -4.63339610e-01,  6.91985453e-01,\n",
       "        4.98778572e-01, -1.43584834e+00,  9.61832106e-01, -1.44791634e-02,\n",
       "        5.02179625e-01, -3.56062369e-02,  5.66905369e-02, -2.29726409e-01,\n",
       "       -1.81402912e+00,  2.22138697e-01, -2.28497939e-01,  1.11908862e+00,\n",
       "        7.70259578e-01, -5.89706602e-01,  2.10917592e-01,  4.25417633e-02,\n",
       "        2.19560969e+00,  8.00193615e-01, -1.83380897e+00, -7.37191146e-01,\n",
       "        1.47892333e-01,  1.31240437e-01, -6.94784197e-01,  1.19693423e+00,\n",
       "        2.36852385e+00,  6.20998703e-01,  7.85306899e-01,  4.61638923e-01])"
      ]
     },
     "execution_count": 83,
     "metadata": {},
     "output_type": "execute_result"
    }
   ],
   "source": [
    "# np.random.randn(dimensiones) seleccion aleatoria de valores pero que devuelve una distrubución normal o campana de gauss\n",
    "campana = np.random.randn(1000)\n",
    "campana"
   ]
  },
  {
   "cell_type": "code",
   "execution_count": 49,
   "metadata": {},
   "outputs": [
    {
     "data": {
      "text/plain": [
       "<Token var=<ContextVar name='format_options' default={'edgeitems': 3, 'threshold': 1000, 'floatmode': 'maxprec', 'precision': 8, 'suppress': False, 'linewidth': 75, 'nanstr': 'nan', 'infstr': 'inf', 'sign': '-', 'formatter': None, 'legacy': 9223372036854775807, 'override_repr': None} at 0x108b6ad90> at 0x10aee7340>"
      ]
     },
     "execution_count": 49,
     "metadata": {},
     "output_type": "execute_result"
    }
   ],
   "source": [
    "# Ajustar las opciones de impresión de NumPy para evitar la notación científica\n",
    "np.set_printoptions(suppress=True, precision=8)"
   ]
  },
  {
   "cell_type": "code",
   "execution_count": 50,
   "metadata": {},
   "outputs": [
    {
     "data": {
      "text/plain": [
       "array([ 1.55817044,  1.85732561,  2.32724448,  2.13258652, -0.26945248,\n",
       "       -1.7608406 , -0.64374974, -2.00895005,  0.59062118,  0.45074392,\n",
       "        0.44695434, -0.32525777, -0.65789283, -0.09390871, -0.25157935,\n",
       "        1.44667496,  0.27337604, -0.64315562, -1.18316689,  0.76459784,\n",
       "        0.5435588 ,  1.05583659, -0.86355728, -1.53481031, -0.50756982,\n",
       "       -1.08829549, -1.01813585, -0.82152682, -0.17440571,  0.45213725,\n",
       "       -0.51922593, -1.34478512, -0.32892016,  1.51177147, -0.37536019,\n",
       "        0.0224417 ,  1.89095602, -0.57822813,  0.10710676, -0.85630762,\n",
       "        0.18223438,  0.50010092,  0.70177924,  0.98369223, -1.25612209,\n",
       "       -0.57360661, -0.21368759, -0.32984566,  2.0563567 ,  1.09527744,\n",
       "       -1.11449565, -0.23774362,  0.19812734, -0.19525729, -0.10498038,\n",
       "       -0.00455607,  0.98535773, -0.78992146, -0.45859819,  0.34996522,\n",
       "        0.24502237, -0.22048289,  2.57287805, -1.37165407, -2.93440061,\n",
       "       -0.36973529, -0.00842891, -0.74315245, -1.36252547,  0.22423695,\n",
       "       -0.73738923,  0.86791833, -0.09130132, -1.00271671,  1.07474465,\n",
       "       -0.39349025, -0.38443092,  0.03137784, -1.68666882,  1.16902241,\n",
       "       -1.17212746, -0.37459224,  1.11866328, -1.24447905,  2.79387311,\n",
       "       -0.68288274,  0.27232689, -0.98884046,  0.53018896, -1.35304774,\n",
       "       -1.27293156,  0.43635989,  0.5044164 ,  0.18683339,  1.62364523,\n",
       "        0.8353256 ,  1.18073789, -0.64262506,  0.04746049, -0.70296099,\n",
       "        1.98740673,  1.6419076 ,  1.00791914,  1.25459526,  0.43934972,\n",
       "        1.2012304 ,  1.48503306,  1.55021463,  0.74764323, -0.38184765,\n",
       "        0.3146129 , -1.33794525,  0.22885285, -1.03208928,  1.08089259,\n",
       "        1.07076321, -2.08065909, -1.26114474,  0.78606317, -0.73172486,\n",
       "        0.41720902,  0.0970428 ,  0.11592347, -0.27059473, -0.52952807,\n",
       "       -0.86324651,  0.42080046,  1.01210311,  2.91084154,  0.607415  ,\n",
       "       -1.32718262, -0.75393497, -0.13765336, -0.03370882,  1.4459932 ,\n",
       "        0.56061401, -0.49114884,  0.08989644,  1.0106377 ,  0.08642654,\n",
       "        0.07820753,  0.1032729 ,  0.57301788,  0.0066948 ,  0.9427419 ,\n",
       "        0.60302723,  1.30591542, -0.2795191 , -0.2968222 , -2.5431854 ,\n",
       "        0.30529507,  0.78235104, -0.3010892 ,  0.39127114,  0.7064051 ,\n",
       "        0.34336784, -0.0822297 , -0.18357644, -2.42166044, -2.51226431,\n",
       "       -0.87032103,  0.84069396, -0.51553237,  1.67838323, -1.07348372,\n",
       "        0.90268839, -0.88989954,  0.33985947, -0.14371353,  2.47612701,\n",
       "        0.57560235,  0.68610883, -0.75829506,  0.31350553, -0.45888331,\n",
       "        0.02518754, -0.91045421, -0.60910601,  0.46830941,  0.81267971,\n",
       "       -0.94061726, -0.48516723,  0.73412852,  0.55872731,  0.68861135,\n",
       "       -0.85870341, -0.72061698,  0.8962328 ,  0.17345827, -0.87547418,\n",
       "       -0.10409827, -1.5965357 , -0.01184   , -0.44672074,  0.32441181,\n",
       "        0.41192557,  0.63995886,  0.19256596,  0.22342978, -0.28347289,\n",
       "       -1.02248813,  0.56386829,  0.29848807, -0.40811803,  1.07135846,\n",
       "        1.02572667,  0.20988798, -0.91024314, -0.06532141,  0.59427241,\n",
       "       -0.77483039,  0.45501305,  2.1217966 , -0.41813874, -0.78503087,\n",
       "        0.50242785, -0.26549115, -0.11619895,  0.16987758, -1.06914627,\n",
       "       -0.37994619, -0.68685378, -0.10455172, -1.23363185,  0.62338763,\n",
       "       -1.78193585, -0.45743641,  1.1511839 , -0.49736241,  0.05786797,\n",
       "       -0.16973868, -0.41686155,  1.44951245, -0.05277986, -0.35200568,\n",
       "        0.03269006,  0.01900178, -1.0878717 , -0.25200944, -0.30701949,\n",
       "       -0.63997876,  0.5261505 ,  1.41808924,  0.23184668, -0.37091357,\n",
       "        1.67570246, -0.61921712,  2.00245271, -0.88604776,  0.67523269,\n",
       "       -2.46982264, -1.49667294, -0.49966591, -0.62090429, -0.3299789 ,\n",
       "       -0.45292355,  1.13415531, -0.18078174, -0.84800259, -0.47010853,\n",
       "        0.06099075,  1.51962383, -1.98569112,  0.65078895,  1.42220499,\n",
       "       -0.39515724,  1.23529345,  0.27455417,  0.03281064,  0.33522878,\n",
       "        0.67586759,  1.34990876,  0.89459716, -0.33148625,  0.3617033 ,\n",
       "        0.25768119,  2.27678317,  0.86381234, -0.7885082 , -0.35631577,\n",
       "        0.36553912, -0.26708651,  0.4123965 , -0.71036374,  0.51332731,\n",
       "        0.78149102,  0.23230322,  1.38083885, -0.7183676 , -0.16295678,\n",
       "       -0.10562772,  0.46514676, -0.97263538,  1.34926607, -0.49711734,\n",
       "       -0.92720168, -1.0531321 , -0.57159713,  0.38876876,  0.0579947 ,\n",
       "       -1.64316209, -0.85075975,  0.09182788, -0.56635311,  0.51360885,\n",
       "       -0.84151985, -2.41332301,  0.07631234, -1.77552014,  0.65087241,\n",
       "       -0.30910043,  0.56110597, -3.24471319,  0.04416656, -0.36781937,\n",
       "       -0.92475604,  1.12798297,  0.25239425, -0.19465687, -1.29158038,\n",
       "       -0.66577242, -0.65612449, -0.11714498,  1.72786795, -0.42673253,\n",
       "       -0.82184427,  0.9498343 , -0.02857976,  1.17431715,  0.38534296,\n",
       "       -0.19444347, -1.31560981, -1.17777182,  1.90383372, -1.04057587,\n",
       "        0.74821551, -1.38168451,  1.28281596,  1.74827598, -0.44341905,\n",
       "        0.89090645,  1.19790713,  0.49199679,  0.77095962,  0.33457127,\n",
       "       -2.60747179,  0.54979817, -0.30695403, -1.37036681, -1.65302301,\n",
       "       -1.2460687 , -0.44380562, -0.67181378, -0.65572201, -0.50672205,\n",
       "       -0.57782607,  2.23397207,  0.37327275,  0.35954283,  1.9623614 ,\n",
       "       -1.79189412, -1.33691501, -0.8059648 ,  0.44185818,  0.52949406,\n",
       "       -0.85387892, -0.33783466,  0.8993209 , -1.22598872,  0.6739412 ,\n",
       "       -1.07040855, -0.1870932 , -0.69339523, -0.83944449,  0.48666606,\n",
       "        2.47054995,  1.02245087,  1.11999756, -0.64753678, -1.82703376,\n",
       "        0.76840089, -1.78717593,  0.27075718,  1.00386433,  1.78430475,\n",
       "        1.14450865, -0.9056967 , -0.00315422, -0.94733258,  2.45536211,\n",
       "       -0.52688909,  0.05714393,  0.27588151, -1.53154126, -0.01695786,\n",
       "        1.02373223,  0.16968875, -0.55310732,  1.08564427,  0.24174861,\n",
       "        0.13366908,  0.4281874 ,  0.92434231,  0.60734642, -1.0287469 ,\n",
       "       -1.49351417, -0.50938538,  0.97313039,  0.08952587,  0.72368674,\n",
       "        0.52750798, -2.6186163 , -0.06824849,  1.83505078, -1.46964396,\n",
       "        0.41605433,  0.10883713,  1.17917101, -1.8897909 , -0.12420875,\n",
       "        0.31219021,  1.68186732,  0.82895285, -1.2478128 ,  1.05729983,\n",
       "       -1.20410085, -0.131047  , -0.10212678,  0.74306566, -0.04067016,\n",
       "       -0.66531368,  0.71538477, -1.19444721, -0.04458663,  1.32513357,\n",
       "       -0.51938239, -1.53059455,  1.19696096,  0.53266733,  0.8981701 ,\n",
       "        0.05474305,  0.40643279,  0.88966785, -0.14355741, -0.35256728,\n",
       "       -1.26039597, -0.69880067,  2.02388644, -0.63505403, -0.57629165,\n",
       "        0.70617128, -0.27506735, -1.37790857, -2.38203045,  0.25681548,\n",
       "        1.28446925, -2.38402925, -0.55817265,  0.74965448, -0.42644342,\n",
       "        0.69067434,  0.40986495, -0.71047808,  1.08977363, -1.85668888,\n",
       "        0.08941953, -1.114219  ,  0.21120986, -0.18400984, -0.10651406,\n",
       "        0.01184872,  1.77977589, -0.36786585, -1.75515574, -0.36206412,\n",
       "       -0.80794349,  0.41053708, -2.3119807 ,  0.55903607, -1.15783033,\n",
       "        1.63192715,  0.44322348,  0.3303627 , -0.30604212, -0.36022517,\n",
       "        0.66254037, -2.8394422 ,  0.55904706,  0.4731495 , -0.01041383,\n",
       "        0.80550475,  0.97507135,  0.13559486,  2.42917468, -0.76292128,\n",
       "        1.22725834,  0.09259223, -0.21443687,  0.5573109 ,  1.65011978,\n",
       "        0.15124571,  0.94583152,  0.28313212, -0.45514567, -1.54793574,\n",
       "       -0.59221014,  0.00806269,  1.14853459,  1.88533761,  0.4694333 ,\n",
       "        1.9684934 , -0.31439348,  0.50226851, -0.61138359, -1.07177781,\n",
       "        0.54813656, -0.50845628, -1.14298028,  1.1719597 ,  0.94048347,\n",
       "        0.46328164,  0.62973919, -0.37758327,  1.68820781, -1.09987417,\n",
       "       -1.38489214, -1.08752134, -0.2674411 ,  0.96957874, -0.26836763,\n",
       "        0.89819609, -0.4567129 ,  0.13215802, -0.08355481,  0.95947914,\n",
       "       -1.61814728,  1.26469307, -1.68045165, -2.5719708 ,  0.58409776,\n",
       "       -1.27965163,  1.20751118,  1.16204669, -1.54837854,  1.55562097,\n",
       "       -1.32101436, -1.45910416, -0.41546216,  2.02678566, -1.1005695 ,\n",
       "       -0.14655802, -1.27733123,  0.06327101,  0.98355718,  0.56765366,\n",
       "       -0.05889889,  1.72253404, -0.06022232, -0.14140331,  0.65883427,\n",
       "        0.7746665 , -0.15152642,  1.71934851,  0.07934311, -0.38823286,\n",
       "       -1.47359284,  0.67617413, -0.27240664, -0.12812727,  0.78377017,\n",
       "        0.58650157,  1.04563424,  0.60840907,  0.01670054,  1.20545169,\n",
       "       -0.67673393, -1.10811927, -0.41056337, -0.41027939, -0.8677918 ,\n",
       "        1.84300709,  0.04511964, -1.07959465,  0.54704123, -1.19314419,\n",
       "       -1.40211595,  0.03107489,  0.39131004, -0.69858455, -0.14487498,\n",
       "        1.99000329,  0.85529208,  0.21348569, -0.77400366, -0.33891996,\n",
       "       -0.68031917, -0.31749549,  0.44607002, -0.21057373,  0.09707556,\n",
       "        1.6722348 ,  0.73880279, -1.34015375,  0.30255254, -0.45890034,\n",
       "       -2.19971428,  0.45599459,  0.74280746, -0.72288901, -1.88439774,\n",
       "       -0.57530736, -0.24232034, -0.4518626 ,  0.17703881, -2.70032362,\n",
       "        1.33868296,  0.32990159, -0.59573098,  1.66276565, -2.19986623,\n",
       "        0.62199852,  0.10805003, -0.11611245, -1.58592115,  0.46847966,\n",
       "       -0.57174393,  0.2652388 ,  1.12533064, -1.70876939, -1.11028075,\n",
       "        2.70840186,  0.20944473,  2.30536572, -0.04552895, -0.11471423,\n",
       "       -0.51547205, -2.16763682,  0.916574  , -0.74703653,  0.13214825,\n",
       "        0.83757801,  1.63321919,  0.80953099,  0.16778045, -0.49483029,\n",
       "       -1.26412424,  0.12121952, -1.0772382 , -0.32691889, -0.94200794,\n",
       "        0.23618739, -0.7445975 ,  0.6313118 , -2.24292919, -1.1945523 ,\n",
       "       -0.55726638,  0.4963277 ,  0.72946689, -0.43909228, -0.58609018,\n",
       "       -0.28958052, -1.41843822, -1.08938442, -0.39190484,  0.16531747,\n",
       "        0.47800577, -0.25696698, -0.15717562, -0.49214445, -0.76569668,\n",
       "       -0.31914926, -1.95941922,  0.36838882, -0.51460547, -1.31239604,\n",
       "       -0.73404825,  0.8815067 , -0.86496401,  0.98106837, -0.45227927,\n",
       "        0.64527441, -1.035275  , -0.39306252,  0.1693195 ,  1.88592591,\n",
       "       -0.23137623,  0.88586476,  0.71156931, -1.16068199, -0.81114776,\n",
       "        1.0928676 ,  0.11417684,  0.94112305, -1.67929012,  0.54807569,\n",
       "        1.03318949, -0.28939003,  1.89991824, -0.35037372, -0.06473316,\n",
       "        0.16702278,  0.10954165, -0.72024629,  1.17504251, -0.05891842,\n",
       "       -2.16925294, -1.87378196,  0.13687996,  1.19785916,  0.27031818,\n",
       "       -0.97079819,  1.79582697, -0.69824803, -0.39322159,  0.3608953 ,\n",
       "        0.53266362, -0.06102976, -0.61988033,  0.06911367,  0.19447867,\n",
       "        0.14714503,  0.3128803 ,  0.37135124,  0.19651288,  0.56382399,\n",
       "        1.82804939,  1.62886931, -1.54373342, -0.30326404, -0.77911144,\n",
       "        0.86950473,  0.32595091,  0.29357559, -0.7142716 , -0.28154137,\n",
       "        0.62263789,  1.08088281,  0.17532595, -0.6925641 ,  1.11200733,\n",
       "        0.57398546, -2.744565  ,  0.36621912, -0.50430538, -0.20049415,\n",
       "       -1.44773502, -0.12444104, -0.64465659, -0.76429583,  1.63231341,\n",
       "        0.23014509,  0.07786174,  0.22513362,  1.72965619,  1.05847486,\n",
       "        0.22205678, -0.31502544,  0.24605586, -0.4647228 , -0.21279883,\n",
       "        1.09385704, -0.86330135,  1.2337427 , -0.53943511,  1.40933481,\n",
       "        0.80199036, -0.73978632, -0.87297577, -2.57144201, -1.32106126,\n",
       "        0.65215542, -0.01109981,  0.7978897 ,  0.81535811, -0.49166041,\n",
       "       -1.53178879,  2.13743195,  0.52319688, -0.71343904,  1.12879494,\n",
       "        0.16191672, -0.1249577 ,  0.05802644,  0.68092434,  0.22290188,\n",
       "        0.3181763 , -2.08070787,  0.37467234, -0.85866935,  0.18748579,\n",
       "       -0.54826426, -0.52775537,  0.7754486 , -2.12168878,  1.96647992,\n",
       "       -0.70420189,  1.01751359,  1.53656374, -0.55590449, -1.23119599,\n",
       "        1.11305109, -0.82956719,  0.35077818,  0.07500029,  0.29337546,\n",
       "       -0.62112865, -1.05335458, -0.1796709 , -1.22392085, -0.06983472,\n",
       "       -1.48175399, -0.51170465, -0.34614061,  0.22085823, -0.30705868,\n",
       "       -0.49476523,  0.95237046,  0.23200045,  0.76342677,  0.53554873,\n",
       "        0.26506844, -0.31104556, -0.76283987,  0.28930506, -0.17599972,\n",
       "        0.62899324, -1.49059161,  2.31673338,  0.33280384,  1.08662525,\n",
       "       -1.17144122, -0.87326929,  0.80683589, -0.12408338, -1.21828269,\n",
       "        1.23437429,  1.42527909, -0.65331731, -0.70543894, -0.27848552,\n",
       "        0.6581397 ,  0.0382939 ,  0.64269585, -0.72269116,  0.41454108,\n",
       "       -0.58534703, -0.20401099, -1.52212484,  1.15997732, -0.35798259,\n",
       "       -0.57516379,  0.12650281,  1.12612543,  0.91447269,  0.10768425,\n",
       "       -0.16919968, -1.25683588, -1.05746913,  0.45078793,  0.02502357,\n",
       "        0.57599991, -0.87836501, -0.37118151,  0.40494789,  0.419005  ,\n",
       "        0.78233598,  0.10653209,  0.37605894,  0.93760604,  0.51936019,\n",
       "       -0.36485303, -1.14930576, -1.60081878, -1.26727493,  0.23610013,\n",
       "        2.19693927,  0.65165308,  0.79629901, -2.31131532,  0.117658  ,\n",
       "       -0.97919442,  1.23033376, -0.12335309,  0.12587333,  0.21456642,\n",
       "        0.65440206,  1.59826597, -0.78514988, -1.28487285,  0.95485465,\n",
       "        0.06747722,  0.24902056,  0.54067128,  0.10504983, -1.60073376,\n",
       "        1.09697593, -0.16297912,  0.00017776,  0.43119344, -0.1722231 ,\n",
       "       -0.17472673, -1.85341761, -0.60946091, -0.33600952, -1.29629415,\n",
       "        0.5039266 , -0.22082177, -1.2516748 , -0.22722853,  1.05983781,\n",
       "        0.7294717 , -1.00485487, -1.74065569,  0.81236018, -0.21505789,\n",
       "        0.41224996, -2.22323342, -0.31828717, -2.9631617 ,  0.45399652,\n",
       "       -0.42797612,  0.95971928,  0.26435242,  0.0263916 ,  1.72173293,\n",
       "       -0.38180547,  0.04147446, -0.04858012,  0.76365629,  0.06718753,\n",
       "       -1.34257178, -0.45979   , -0.10471453, -0.19471161, -0.05064919,\n",
       "       -0.76608581,  0.3654862 , -0.33431339,  0.37065802, -1.01088417,\n",
       "        0.02261029, -1.07618103,  0.90000753, -2.42545613, -1.18797416,\n",
       "       -0.3226212 ,  0.24573981, -1.37454331,  1.26918444, -0.10233411,\n",
       "       -0.45792307, -2.15033792, -1.01807051, -0.34783323, -1.89007848,\n",
       "       -0.64093597, -0.24564136,  0.66412302, -1.68496033, -0.52977757,\n",
       "        0.7450746 , -0.20383906, -0.8823357 ,  1.93363465,  0.7576635 ,\n",
       "        0.18103036,  0.28899993, -0.85623598,  0.63704642, -1.59737458,\n",
       "       -0.16718028,  0.60253311, -0.52609985, -0.27777294, -1.58114579,\n",
       "       -1.38007029,  1.58334979,  0.79711509,  0.79413986,  1.22479523,\n",
       "        0.59602359,  2.35357467, -0.31865164,  0.14103565,  0.70140011,\n",
       "       -1.379861  , -0.81649254,  0.12999326,  0.14446823, -0.54853003,\n",
       "        0.29537852, -0.1488364 , -0.17168091,  0.48407903, -0.48414422,\n",
       "        0.94623603,  1.44150321,  0.22944126,  0.09298429, -0.13741404])"
      ]
     },
     "execution_count": 50,
     "metadata": {},
     "output_type": "execute_result"
    }
   ],
   "source": [
    "campana = np.random.randn(1000)\n",
    "campana"
   ]
  },
  {
   "cell_type": "markdown",
   "metadata": {},
   "source": [
    "**¿Como verificamos que se trata de una distribución normal?**\n"
   ]
  },
  {
   "cell_type": "code",
   "execution_count": 46,
   "metadata": {},
   "outputs": [
    {
     "name": "stdout",
     "output_type": "stream",
     "text": [
      "Collecting matplotlib\n",
      "  Obtaining dependency information for matplotlib from https://files.pythonhosted.org/packages/28/ba/8be09886eb56ac04a218a1dc3fa728a5c4cac60b019b4f1687885166da00/matplotlib-3.9.2-cp311-cp311-macosx_11_0_arm64.whl.metadata\n",
      "  Downloading matplotlib-3.9.2-cp311-cp311-macosx_11_0_arm64.whl.metadata (11 kB)\n",
      "Collecting contourpy>=1.0.1 (from matplotlib)\n",
      "  Obtaining dependency information for contourpy>=1.0.1 from https://files.pythonhosted.org/packages/9f/6b/8a1ca4b81d426c104fe42b3cfad9488eaaef0a03fcf98eaecc22b628a013/contourpy-1.2.1-cp311-cp311-macosx_11_0_arm64.whl.metadata\n",
      "  Using cached contourpy-1.2.1-cp311-cp311-macosx_11_0_arm64.whl.metadata (5.8 kB)\n",
      "Collecting cycler>=0.10 (from matplotlib)\n",
      "  Obtaining dependency information for cycler>=0.10 from https://files.pythonhosted.org/packages/e7/05/c19819d5e3d95294a6f5947fb9b9629efb316b96de511b418c53d245aae6/cycler-0.12.1-py3-none-any.whl.metadata\n",
      "  Using cached cycler-0.12.1-py3-none-any.whl.metadata (3.8 kB)\n",
      "Collecting fonttools>=4.22.0 (from matplotlib)\n",
      "  Obtaining dependency information for fonttools>=4.22.0 from https://files.pythonhosted.org/packages/f5/7e/4060d88dbfaf446e1c9f0fe9cf13dba36ba47c4da85ce5c1df084ce47e7d/fonttools-4.53.1-cp311-cp311-macosx_11_0_arm64.whl.metadata\n",
      "  Downloading fonttools-4.53.1-cp311-cp311-macosx_11_0_arm64.whl.metadata (162 kB)\n",
      "\u001b[2K     \u001b[38;2;114;156;31m━━━━━━━━━━━━━━━━━━━━━━━━━━━━━━━━━━━━━━━\u001b[0m \u001b[32m162.6/162.6 kB\u001b[0m \u001b[31m4.3 MB/s\u001b[0m eta \u001b[36m0:00:00\u001b[0m[31m5.0 MB/s\u001b[0m eta \u001b[36m0:00:01\u001b[0m\n",
      "\u001b[?25hCollecting kiwisolver>=1.3.1 (from matplotlib)\n",
      "  Obtaining dependency information for kiwisolver>=1.3.1 from https://files.pythonhosted.org/packages/4a/fe/23d7fa78f7c66086d196406beb1fb2eaf629dd7adc01c3453033303d17fa/kiwisolver-1.4.5-cp311-cp311-macosx_11_0_arm64.whl.metadata\n",
      "  Using cached kiwisolver-1.4.5-cp311-cp311-macosx_11_0_arm64.whl.metadata (6.4 kB)\n",
      "Requirement already satisfied: numpy>=1.23 in ./.clase_4_venv/lib/python3.11/site-packages (from matplotlib) (2.1.0)\n",
      "Requirement already satisfied: packaging>=20.0 in ./.clase_4_venv/lib/python3.11/site-packages (from matplotlib) (24.1)\n",
      "Collecting pillow>=8 (from matplotlib)\n",
      "  Obtaining dependency information for pillow>=8 from https://files.pythonhosted.org/packages/f4/5f/491dafc7bbf5a3cc1845dc0430872e8096eb9e2b6f8161509d124594ec2d/pillow-10.4.0-cp311-cp311-macosx_11_0_arm64.whl.metadata\n",
      "  Downloading pillow-10.4.0-cp311-cp311-macosx_11_0_arm64.whl.metadata (9.2 kB)\n",
      "Collecting pyparsing>=2.3.1 (from matplotlib)\n",
      "  Obtaining dependency information for pyparsing>=2.3.1 from https://files.pythonhosted.org/packages/e5/0c/0e3c05b1c87bb6a1c76d281b0f35e78d2d80ac91b5f8f524cebf77f51049/pyparsing-3.1.4-py3-none-any.whl.metadata\n",
      "  Downloading pyparsing-3.1.4-py3-none-any.whl.metadata (5.1 kB)\n",
      "Requirement already satisfied: python-dateutil>=2.7 in ./.clase_4_venv/lib/python3.11/site-packages (from matplotlib) (2.9.0.post0)\n",
      "Requirement already satisfied: six>=1.5 in ./.clase_4_venv/lib/python3.11/site-packages (from python-dateutil>=2.7->matplotlib) (1.16.0)\n",
      "Downloading matplotlib-3.9.2-cp311-cp311-macosx_11_0_arm64.whl (7.8 MB)\n",
      "\u001b[2K   \u001b[38;2;114;156;31m━━━━━━━━━━━━━━━━━━━━━━━━━━━━━━━━━━━━━━━━\u001b[0m \u001b[32m7.8/7.8 MB\u001b[0m \u001b[31m43.2 MB/s\u001b[0m eta \u001b[36m0:00:00\u001b[0m31m50.2 MB/s\u001b[0m eta \u001b[36m0:00:01\u001b[0m\n",
      "\u001b[?25hDownloading contourpy-1.2.1-cp311-cp311-macosx_11_0_arm64.whl (245 kB)\n",
      "\u001b[2K   \u001b[38;2;114;156;31m━━━━━━━━━━━━━━━━━━━━━━━━━━━━━━━━━━━━━━━━\u001b[0m \u001b[32m245.9/245.9 kB\u001b[0m \u001b[31m25.7 MB/s\u001b[0m eta \u001b[36m0:00:00\u001b[0m\n",
      "\u001b[?25hDownloading cycler-0.12.1-py3-none-any.whl (8.3 kB)\n",
      "Downloading fonttools-4.53.1-cp311-cp311-macosx_11_0_arm64.whl (2.2 MB)\n",
      "\u001b[2K   \u001b[38;2;114;156;31m━━━━━━━━━━━━━━━━━━━━━━━━━━━━━━━━━━━━━━━━\u001b[0m \u001b[32m2.2/2.2 MB\u001b[0m \u001b[31m42.1 MB/s\u001b[0m eta \u001b[36m0:00:00\u001b[0m31m53.3 MB/s\u001b[0m eta \u001b[36m0:00:01\u001b[0m\n",
      "\u001b[?25hDownloading kiwisolver-1.4.5-cp311-cp311-macosx_11_0_arm64.whl (66 kB)\n",
      "\u001b[2K   \u001b[38;2;114;156;31m━━━━━━━━━━━━━━━━━━━━━━━━━━━━━━━━━━━━━━━━\u001b[0m \u001b[32m66.2/66.2 kB\u001b[0m \u001b[31m9.7 MB/s\u001b[0m eta \u001b[36m0:00:00\u001b[0m\n",
      "\u001b[?25hDownloading pillow-10.4.0-cp311-cp311-macosx_11_0_arm64.whl (3.4 MB)\n",
      "\u001b[2K   \u001b[38;2;114;156;31m━━━━━━━━━━━━━━━━━━━━━━━━━━━━━━━━━━━━━━━━\u001b[0m \u001b[32m3.4/3.4 MB\u001b[0m \u001b[31m40.0 MB/s\u001b[0m eta \u001b[36m0:00:00\u001b[0mm eta \u001b[36m0:00:01\u001b[0m[36m0:00:01\u001b[0m\n",
      "\u001b[?25hDownloading pyparsing-3.1.4-py3-none-any.whl (104 kB)\n",
      "\u001b[2K   \u001b[38;2;114;156;31m━━━━━━━━━━━━━━━━━━━━━━━━━━━━━━━━━━━━━━━━\u001b[0m \u001b[32m104.1/104.1 kB\u001b[0m \u001b[31m13.4 MB/s\u001b[0m eta \u001b[36m0:00:00\u001b[0m\n",
      "\u001b[?25hInstalling collected packages: pyparsing, pillow, kiwisolver, fonttools, cycler, contourpy, matplotlib\n",
      "Successfully installed contourpy-1.2.1 cycler-0.12.1 fonttools-4.53.1 kiwisolver-1.4.5 matplotlib-3.9.2 pillow-10.4.0 pyparsing-3.1.4\n",
      "\n",
      "\u001b[1m[\u001b[0m\u001b[34;49mnotice\u001b[0m\u001b[1;39;49m]\u001b[0m\u001b[39;49m A new release of pip is available: \u001b[0m\u001b[31;49m23.2.1\u001b[0m\u001b[39;49m -> \u001b[0m\u001b[32;49m24.2\u001b[0m\n",
      "\u001b[1m[\u001b[0m\u001b[34;49mnotice\u001b[0m\u001b[1;39;49m]\u001b[0m\u001b[39;49m To update, run: \u001b[0m\u001b[32;49mpip install --upgrade pip\u001b[0m\n"
     ]
    }
   ],
   "source": [
    "! pip install matplotlib"
   ]
  },
  {
   "cell_type": "code",
   "execution_count": 47,
   "metadata": {},
   "outputs": [],
   "source": [
    "# Descargamos matplotlib con pip install matplotlib y luego lo importamos\n",
    "import matplotlib.pyplot as plt"
   ]
  },
  {
   "cell_type": "code",
   "execution_count": 51,
   "metadata": {},
   "outputs": [
    {
     "data": {
      "image/png": "[encoded data removed]",
      "text/plain": [
       "<Figure size 640x480 with 1 Axes>"
      ]
     },
     "metadata": {},
     "output_type": "display_data"
    }
   ],
   "source": [
    "plt.hist(campana) # Vemos que estamos frente a una campana de Gauss o distribución normal.\n",
    "plt.show()"
   ]
  },
  {
   "cell_type": "code",
   "execution_count": 80,
   "metadata": {},
   "outputs": [
    {
     "data": {
      "text/plain": [
       "array([-0.48025268, -0.04253881,  0.55418018, ..., -0.45408475,\n",
       "       -0.93155848,  0.68393913])"
      ]
     },
     "execution_count": 80,
     "metadata": {},
     "output_type": "execute_result"
    }
   ],
   "source": [
    "campana = np.random.randn(100000) # Mientras más elementos más normal se ve.\n",
    "campana"
   ]
  },
  {
   "cell_type": "code",
   "execution_count": 81,
   "metadata": {},
   "outputs": [
    {
     "data": {
      "image/png": "[encoded data removed]",
      "text/plain": [
       "<Figure size 640x480 with 1 Axes>"
      ]
     },
     "metadata": {},
     "output_type": "display_data"
    }
   ],
   "source": [
    "plt.hist(campana) # Vemos que estamos frente a una campana de Gauss o distribución normal.\n",
    "plt.show()"
   ]
  },
  {
   "cell_type": "markdown",
   "metadata": {},
   "source": [
    "#### Otro método para armar arrays aleatorios es: "
   ]
  },
  {
   "cell_type": "code",
   "execution_count": 52,
   "metadata": {},
   "outputs": [
    {
     "data": {
      "text/plain": [
       "array([11, 68, 13, 32, 24, 99, 32, 84, 66, 49, 38, 10, 19, 34, 77,  8, 74,\n",
       "       52, 36, 28, 50, 22, 36, 39,  2, 94, 42, 41, 57, 57, 17, 16, 90,  7,\n",
       "       38, 76, 30, 86, 36, 78, 81, 65,  6, 81, 68, 46, 91, 12, 42, 68, 46,\n",
       "       13, 30, 74, 98, 27, 82, 18, 72, 16, 63, 81, 20, 74, 79,  2, 71, 36,\n",
       "       80, 70,  9, 53, 47,  4, 81, 65, 11, 35, 39, 21, 23, 97, 27, 38, 78,\n",
       "       46, 34, 75, 99, 89, 28, 11, 45, 18, 65, 96, 70, 53, 29, 22, 74, 33,\n",
       "        3,  1, 47,  6, 88, 52, 89, 12, 68, 24,  4, 58, 82, 23, 75, 31, 87,\n",
       "       11, 74, 25,  3,  3, 87, 69, 14, 70,  4, 31, 85,  2, 81, 28,  4, 34,\n",
       "       30, 90, 47, 14, 11, 95, 40, 50, 90,  1,  9, 37, 11, 94, 21, 31, 74,\n",
       "       67, 59, 82, 73, 10, 86, 88, 73, 80, 18, 97, 40, 85, 64, 27, 88, 54,\n",
       "       14, 57, 52, 90, 14, 95, 91, 67, 20, 37, 66, 20, 29, 33, 31, 39, 65,\n",
       "        4, 59, 28, 59, 61, 71, 14, 87, 58, 22, 46, 41, 34, 22, 90, 55, 14,\n",
       "       15, 82, 37, 83, 31, 24, 52, 55, 15, 67, 42, 86, 21, 84, 11, 70, 64,\n",
       "       49, 13, 11, 10, 47,  7, 53, 18, 93, 84, 67, 37, 66, 47, 79,  1, 47,\n",
       "       44, 53, 85, 59, 81, 46, 64, 20, 22, 33, 96, 52,  1, 42, 82, 49, 34,\n",
       "       23, 81, 62, 38, 37, 31, 88, 98, 91, 23, 77, 59, 52, 31, 14, 90, 10,\n",
       "       67, 79, 75, 25, 87,  7, 33, 52, 84, 67, 51, 80, 23,  2, 87, 99, 17,\n",
       "       53, 96, 57, 28, 54, 24, 67, 61, 93, 68, 79, 24, 61, 36, 26, 81, 93,\n",
       "       65, 62, 53, 40, 76, 51, 69, 81, 65, 68, 94, 85, 18, 68, 43, 15, 20,\n",
       "       29, 62, 34, 15, 82, 29,  4, 66, 47, 24, 49, 80, 99, 64, 50, 34,  8,\n",
       "       14, 18, 46, 72, 60,  8, 98, 59, 23,  2, 16, 14, 36, 18, 76, 65, 56,\n",
       "       75, 86, 92, 76, 73, 58, 99,  3, 59, 34, 72, 75, 63,  6, 67, 30, 90,\n",
       "       68,  7, 90, 95, 78, 86, 50, 40, 30, 56, 24, 85, 93,  5, 38, 77, 34,\n",
       "       26, 77, 13, 95, 46, 75,  1,  3, 89, 52,  4, 59, 28, 11, 74, 84, 12,\n",
       "       42, 88, 47, 40, 80, 41, 26, 23, 37, 70, 88, 30, 61, 78, 44,  4, 72,\n",
       "       82, 56, 32, 44, 98, 13, 49, 98, 85, 28, 33, 62,  7, 76, 72, 48, 31,\n",
       "       84, 38, 87, 52, 97, 46, 50, 55, 27, 80, 37, 56, 54, 51, 50, 17, 88,\n",
       "       87, 81, 53,  6, 87, 90, 18, 21, 56, 22, 56, 84, 18, 42, 10, 15, 98,\n",
       "       44, 45,  1, 10, 45,  3, 50, 53, 19, 89, 94, 54, 72, 56, 98,  2,  4,\n",
       "        6, 73, 18,  9, 33, 96, 53, 70, 15, 92, 86, 37, 68, 70,  2, 67, 82,\n",
       "       56, 39, 52, 63, 79,  6,  8,  6, 11,  5, 80, 20, 29, 10, 19, 18, 65,\n",
       "       78, 63, 53,  7, 96, 83, 12, 76, 25, 64, 26, 34, 49, 45, 86, 69, 22,\n",
       "       81, 86,  9, 32,  6, 76, 19, 35, 12, 49, 15,  3, 79, 79, 34, 68, 93,\n",
       "       97,  8, 33, 50, 25, 69, 60,  1, 25,  4, 62, 77, 92, 49, 36, 85,  2,\n",
       "       32, 66, 53, 78, 95, 30,  2, 14, 91, 48, 56, 12, 64,  1, 83,  1, 99,\n",
       "       26, 56, 27, 83,  4, 54, 71, 54, 96, 93, 65, 78, 87, 63, 61, 13, 76,\n",
       "       34, 70, 42, 36, 88,  7, 41, 53, 75, 16, 13, 61, 38, 53,  4, 37, 29,\n",
       "       22, 62, 82, 50, 52, 88, 27, 20, 31, 36, 35, 90, 39,  8, 53, 33,  6,\n",
       "       50, 34, 53,  2, 43, 43,  2, 63, 80, 69, 28, 82, 80, 22, 98, 88, 88,\n",
       "       59, 89, 59, 73,  5, 33, 42, 95, 61, 41,  5, 93, 57, 58, 41, 54, 95,\n",
       "       25,  2, 85, 97, 48, 49, 63, 74, 96, 68, 54, 30, 49, 66, 76,  4, 72,\n",
       "       27, 40, 84,  2, 17, 97, 73, 93, 25, 64, 52, 55, 47, 26, 20, 40, 65,\n",
       "       30, 90, 19, 52, 22, 94, 11, 14, 11, 25,  6, 89, 84,  1, 90, 66,  9,\n",
       "       69, 89, 66, 72, 88,  1, 43, 79, 35, 72, 83, 19, 75, 55, 25,  7, 26,\n",
       "       66, 61, 68, 92, 71, 22, 81, 25, 33, 81, 67, 93, 32, 24,  6, 51, 65,\n",
       "       91, 23, 42, 35,  7, 87, 91,  7, 59,  8, 52, 48, 48, 95, 37, 16, 65,\n",
       "       11, 51,  2, 41, 66, 64,  1, 76, 79, 50, 29, 48, 15, 28,  1, 58,  1,\n",
       "       78, 54, 77, 34, 57, 21, 44, 18,  1, 95, 78, 95, 18, 31, 34, 89,  6,\n",
       "       93,  5, 91, 57, 74, 73, 52, 86, 47, 58, 63, 79, 19, 49, 72, 64, 14,\n",
       "       73, 71, 93, 14,  7, 69, 32, 98, 32, 33, 51, 50, 61, 52, 98, 86, 26,\n",
       "       85, 16,  1, 35,  9, 65, 27, 44, 16, 61, 34, 75,  4, 26, 35, 85, 16,\n",
       "        9, 67, 86,  4,  3, 55, 24, 77, 37, 68, 48, 41, 89, 84, 68, 37, 63,\n",
       "        6,  4, 15, 59, 33,  9, 64, 56, 74, 38, 92, 57, 91, 14, 88, 41, 85,\n",
       "       91, 64, 47, 19, 67, 45, 97, 80, 48, 38, 41,  5, 35, 56, 58, 72, 82,\n",
       "       65, 14, 96, 28,  8, 15, 45, 61, 36, 17, 73, 38, 19, 89, 15, 79, 23,\n",
       "       15, 89, 53, 56, 59, 64, 18, 27, 71, 22,  3, 61, 39, 60, 96, 13, 76,\n",
       "       55, 44, 29, 44, 68, 82, 61, 70, 37, 15, 85,  7, 83, 81, 95, 61, 58,\n",
       "        1, 77,  6,  5,  2,  6, 17, 99, 30, 83, 54, 64, 48, 92, 50, 44,  5,\n",
       "        1, 58, 48, 98, 82, 45, 30,  9, 49, 62,  4, 40, 35, 74])"
      ]
     },
     "execution_count": 52,
     "metadata": {},
     "output_type": "execute_result"
    }
   ],
   "source": [
    "array_aleatorio_arbitrario = np.random.randint(low=1, high=100, size=1000)\n",
    "array_aleatorio_arbitrario"
   ]
  },
  {
   "cell_type": "code",
   "execution_count": 54,
   "metadata": {},
   "outputs": [
    {
     "data": {
      "text/plain": [
       "(1000,)"
      ]
     },
     "execution_count": 54,
     "metadata": {},
     "output_type": "execute_result"
    }
   ],
   "source": [
    "# El atributo shape de un array nos devuelve las dimensiones del mismo como vimos arriba\n",
    "campana.shape # 1 dimensión de 1000 de largo"
   ]
  },
  {
   "cell_type": "code",
   "execution_count": 55,
   "metadata": {},
   "outputs": [
    {
     "data": {
      "text/plain": [
       "(2, 3)"
      ]
     },
     "execution_count": 55,
     "metadata": {},
     "output_type": "execute_result"
    }
   ],
   "source": [
    "matriz.shape # 2 dimensiones: 2 filas de 3 elementos cada una "
   ]
  },
  {
   "cell_type": "code",
   "execution_count": 56,
   "metadata": {},
   "outputs": [
    {
     "data": {
      "text/plain": [
       "(2, 2, 3)"
      ]
     },
     "execution_count": 56,
     "metadata": {},
     "output_type": "execute_result"
    }
   ],
   "source": [
    "tensor.shape # 3 dimensiones: 2 de profundida, 2 filas y 3 columnas. "
   ]
  },
  {
   "cell_type": "code",
   "execution_count": 57,
   "metadata": {},
   "outputs": [
    {
     "data": {
      "text/plain": [
       "array([[1, 2, 3],\n",
       "       [4, 5, 6]])"
      ]
     },
     "execution_count": 57,
     "metadata": {},
     "output_type": "execute_result"
    }
   ],
   "source": [
    "# reshape se usa para cambiar la forma por una compatible. Ejemplo: \n",
    "matriz"
   ]
  },
  {
   "cell_type": "code",
   "execution_count": 62,
   "metadata": {},
   "outputs": [
    {
     "data": {
      "text/plain": [
       "array([[1, 2],\n",
       "       [3, 4],\n",
       "       [5, 6]])"
      ]
     },
     "execution_count": 62,
     "metadata": {},
     "output_type": "execute_result"
    }
   ],
   "source": [
    "matriz_reshaped = matriz.reshape(3,2)\n",
    "matriz_reshaped"
   ]
  },
  {
   "cell_type": "code",
   "execution_count": 47,
   "metadata": {},
   "outputs": [
    {
     "data": {
      "text/plain": [
       "array([[1, 2, 3],\n",
       "       [4, 5, 6]])"
      ]
     },
     "execution_count": 47,
     "metadata": {},
     "output_type": "execute_result"
    }
   ],
   "source": [
    "matriz"
   ]
  },
  {
   "cell_type": "code",
   "execution_count": 50,
   "metadata": {},
   "outputs": [
    {
     "data": {
      "text/plain": [
       "array([[1, 2, 3, 4, 5, 6]])"
      ]
     },
     "execution_count": 50,
     "metadata": {},
     "output_type": "execute_result"
    }
   ],
   "source": [
    "matriz.reshape(1,6)"
   ]
  },
  {
   "cell_type": "code",
   "execution_count": 51,
   "metadata": {},
   "outputs": [
    {
     "data": {
      "text/plain": [
       "array([[1],\n",
       "       [2],\n",
       "       [3],\n",
       "       [4],\n",
       "       [5],\n",
       "       [6]])"
      ]
     },
     "execution_count": 51,
     "metadata": {},
     "output_type": "execute_result"
    }
   ],
   "source": [
    "matriz.reshape(6,1)"
   ]
  },
  {
   "cell_type": "code",
   "execution_count": 63,
   "metadata": {},
   "outputs": [
    {
     "data": {
      "text/plain": [
       "array([[1, 2, 3],\n",
       "       [4, 5, 6]])"
      ]
     },
     "execution_count": 63,
     "metadata": {},
     "output_type": "execute_result"
    }
   ],
   "source": [
    "matriz_copia = matriz.copy()\n",
    "matriz_copia"
   ]
  },
  {
   "cell_type": "code",
   "execution_count": 94,
   "metadata": {},
   "outputs": [
    {
     "data": {
      "text/plain": [
       "array([[1, 2, 3],\n",
       "       [4, 5, 6]])"
      ]
     },
     "execution_count": 94,
     "metadata": {},
     "output_type": "execute_result"
    }
   ],
   "source": [
    "matriz"
   ]
  },
  {
   "cell_type": "markdown",
   "metadata": {},
   "source": [
    "## Operaciones con Arrays: "
   ]
  },
  {
   "cell_type": "code",
   "execution_count": 66,
   "metadata": {},
   "outputs": [
    {
     "name": "stdout",
     "output_type": "stream",
     "text": [
      "Total de horas gastadas en deportes: [2.5 4.  3.  2.5 3.5]\n"
     ]
    }
   ],
   "source": [
    "# Suma\n",
    "horas_natacion = np.array([1, 2, 1, 1.5, 2])  # Horas por día de lunes a viernes\n",
    "horas_tenis = np.array([1.5, 2, 2, 1, 1.5])\n",
    "\n",
    "total_horas = horas_natacion + horas_tenis\n",
    "\n",
    "print(\"Total de horas gastadas en deportes:\", total_horas)"
   ]
  },
  {
   "cell_type": "code",
   "execution_count": 67,
   "metadata": {},
   "outputs": [
    {
     "name": "stdout",
     "output_type": "stream",
     "text": [
      "Diferencia de horas entre natación y tenis: [-0.5  0.  -1.   0.5  0.5]\n"
     ]
    }
   ],
   "source": [
    "# Resta\n",
    "diferencia_horas = horas_natacion - horas_tenis\n",
    "\n",
    "print(\"Diferencia de horas entre natación y tenis:\", diferencia_horas)"
   ]
  },
  {
   "cell_type": "code",
   "execution_count": 55,
   "metadata": {},
   "outputs": [
    {
     "name": "stdout",
     "output_type": "stream",
     "text": [
      "Horas ajustadas por intensidad (Natación): [1.1  2.2  1.1  1.65 2.2 ]\n",
      "Horas ajustadas por intensidad (Tenis): [1.8 2.4 2.4 1.2 1.8]\n"
     ]
    }
   ],
   "source": [
    "# Multiplicación\n",
    "ajuste_natacion = horas_natacion * 1.1\n",
    "ajuste_tenis = horas_tenis * 1.2\n",
    "\n",
    "print(\"Horas ajustadas por intensidad (Natación):\", ajuste_natacion)\n",
    "print(\"Horas ajustadas por intensidad (Tenis):\", ajuste_tenis)"
   ]
  },
  {
   "cell_type": "code",
   "execution_count": 57,
   "metadata": {},
   "outputs": [
    {
     "data": {
      "text/plain": [
       "array([2.5, 4. , 3. , 2.5, 3.5])"
      ]
     },
     "execution_count": 57,
     "metadata": {},
     "output_type": "execute_result"
    }
   ],
   "source": [
    "total_horas"
   ]
  },
  {
   "cell_type": "code",
   "execution_count": 56,
   "metadata": {},
   "outputs": [
    {
     "name": "stdout",
     "output_type": "stream",
     "text": [
      "Promedio de horas por deporte por día: [0.5 0.8 0.6 0.5 0.7]\n"
     ]
    }
   ],
   "source": [
    "# División -> promedio de horas dedicadas por día en cada deporte,\n",
    "promedio_natacion = total_horas / 5  # Suponiendo 5 días a la semana\n",
    "\n",
    "print(\"Promedio de horas por deporte por día:\", promedio_natacion)"
   ]
  },
  {
   "cell_type": "code",
   "execution_count": 101,
   "metadata": {},
   "outputs": [
    {
     "name": "stdout",
     "output_type": "stream",
     "text": [
      "Rendimiento total por deporte: [[1.62  1.24 ]\n",
      " [2.125 1.67 ]]\n"
     ]
    }
   ],
   "source": [
    "# np.matmul o multiplicación de matrices: calcular el rendimiento total de dos equipos de deportes (natación y tenis) en diferentes categorías.\n",
    "# Habilidades del equipo por deporte [natación, tenis]\n",
    "\n",
    "habilidades = np.array([[0.8, 0.6],  # Eficiencia\n",
    "                        [0.9, 0.95]])  # Técnica\n",
    "\n",
    "# Efectividad de entrenamiento [Eficiencia, Técnica]\n",
    "efectividad_entrenamiento = np.array([[1.2, 0.8],  \n",
    "                                      [1.1, 1.0]])\n",
    "\n",
    "# Cálculo del rendimiento total\n",
    "rendimiento_total = np.matmul(habilidades, efectividad_entrenamiento) # np.dot()\n",
    "\n",
    "print(\"Rendimiento total por deporte:\", rendimiento_total)"
   ]
  },
  {
   "attachments": {
    "image.png": {
     "image/png": "[encoded data removed]"
    }
   },
   "cell_type": "markdown",
   "metadata": {},
   "source": [
    "![image.png](attachment:image.png)"
   ]
  },
  {
   "attachments": {
    "image.png": {
     "image/png": "[encoded data removed]"
    }
   },
   "cell_type": "markdown",
   "metadata": {},
   "source": [
    "![image.png](attachment:image.png)"
   ]
  },
  {
   "attachments": {
    "image.png": {
     "image/png": "[encoded data removed]"
    }
   },
   "cell_type": "markdown",
   "metadata": {},
   "source": [
    "![image.png](attachment:image.png)"
   ]
  },
  {
   "cell_type": "markdown",
   "metadata": {},
   "source": [
    "## Funciones Universales (ufuncs): son funciones de Numpy que operan en arrays de Numpy elemento por elemento"
   ]
  },
  {
   "cell_type": "code",
   "execution_count": 72,
   "metadata": {},
   "outputs": [
    {
     "name": "stdout",
     "output_type": "stream",
     "text": [
      "El total de puntos ganados por todos los jugadores en el torneo es: 153\n",
      "El total de puntos ganados por todos los jugadores en el torneo es: 153\n",
      "El promedio de puntos ganados por todos los jugadores en el torneo es: 10.2\n",
      "La mediana de puntos ganados por todos los jugadores en el torneo es: 10.0\n"
     ]
    }
   ],
   "source": [
    "# Funciones Universales (ufuncs): son funciones de Numpy que operan en arrays de Numpy elemento por elemento\n",
    "# Puntos ganados por cada jugador en 5 partidos\n",
    "\n",
    "puntos_jugadores = np.array([\n",
    "    [15, 12, 9, 7, 6],  # Jugador 1\n",
    "    [10, 14, 6, 8, 12], # Jugador 2\n",
    "    [7, 9, 12, 15, 11]  # Jugador 3\n",
    "])\n",
    "\n",
    "# Calculamos el total de puntos ganados en el torneo\n",
    "total_puntos = np.sum(puntos_jugadores)\n",
    "total_puntos2 = puntos_jugadores.sum()\n",
    "promedio_puntos = np.mean(puntos_jugadores)\n",
    "mediana_puntos = np.median(puntos_jugadores)\n",
    "\n",
    "print(f\"El total de puntos ganados por todos los jugadores en el torneo es: {total_puntos}\")\n",
    "print(f\"El total de puntos ganados por todos los jugadores en el torneo es: {total_puntos2}\")\n",
    "print(f\"El promedio de puntos ganados por todos los jugadores en el torneo es: {promedio_puntos}\")\n",
    "print(f\"La mediana de puntos ganados por todos los jugadores en el torneo es: {mediana_puntos}\")"
   ]
  },
  {
   "cell_type": "code",
   "execution_count": 58,
   "metadata": {},
   "outputs": [
    {
     "name": "stdout",
     "output_type": "stream",
     "text": [
      "Seno de los ángulos: [ 0.0000000e+00  1.0000000e+00  1.2246468e-16 -1.0000000e+00\n",
      " -2.4492936e-16]\n"
     ]
    }
   ],
   "source": [
    "# Uso de funciones trigonométricas como seno\n",
    "angulos = np.array([0, np.pi/2, np.pi, 3*np.pi/2, 2*np.pi])  # Ángulos en radianes\n",
    "\n",
    "# Calculando el seno de los ángulos\n",
    "seno_angulos = np.sin(angulos)\n",
    "print(\"Seno de los ángulos:\", seno_angulos)"
   ]
  },
  {
   "cell_type": "markdown",
   "metadata": {},
   "source": [
    "## Matrices"
   ]
  },
  {
   "cell_type": "markdown",
   "metadata": {},
   "source": [
    "### Formas de construcción"
   ]
  },
  {
   "cell_type": "code",
   "execution_count": 60,
   "metadata": {},
   "outputs": [
    {
     "data": {
      "text/plain": [
       "array([[15, 12,  9,  7,  6],\n",
       "       [10, 14,  6,  8, 12],\n",
       "       [ 7,  9, 12, 15, 11]])"
      ]
     },
     "execution_count": 60,
     "metadata": {},
     "output_type": "execute_result"
    }
   ],
   "source": [
    "# usando np.array()\n",
    "puntos_jugadores = np.array([\n",
    "    [15, 12, 9, 7, 6],  # Jugador 1\n",
    "    [10, 14, 6, 8, 12], # Jugador 2\n",
    "    [7, 9, 12, 15, 11]  # Jugador 3\n",
    "])\n",
    "puntos_jugadores"
   ]
  },
  {
   "cell_type": "code",
   "execution_count": 109,
   "metadata": {},
   "outputs": [
    {
     "data": {
      "text/plain": [
       "array([[0., 0., 0.],\n",
       "       [0., 0., 0.],\n",
       "       [0., 0., 0.]])"
      ]
     },
     "execution_count": 109,
     "metadata": {},
     "output_type": "execute_result"
    }
   ],
   "source": [
    "# usando np.zeros()\n",
    "matriz_ceros = np.zeros((3,3))\n",
    "matriz_ceros"
   ]
  },
  {
   "cell_type": "code",
   "execution_count": 111,
   "metadata": {},
   "outputs": [
    {
     "data": {
      "text/plain": [
       "array([[1., 1., 1.],\n",
       "       [1., 1., 1.],\n",
       "       [1., 1., 1.]])"
      ]
     },
     "execution_count": 111,
     "metadata": {},
     "output_type": "execute_result"
    }
   ],
   "source": [
    "# usando np.ones()\n",
    "matriz_unos = np.ones((3,3))\n",
    "matriz_unos"
   ]
  },
  {
   "cell_type": "code",
   "execution_count": 113,
   "metadata": {},
   "outputs": [
    {
     "data": {
      "text/plain": [
       "array([[1., 0., 0., 0., 0.],\n",
       "       [0., 1., 0., 0., 0.],\n",
       "       [0., 0., 1., 0., 0.],\n",
       "       [0., 0., 0., 1., 0.],\n",
       "       [0., 0., 0., 0., 1.]])"
      ]
     },
     "execution_count": 113,
     "metadata": {},
     "output_type": "execute_result"
    }
   ],
   "source": [
    "# usando np.eye(): construimos una \"matriz identidad\": matriz rellena de ceros a excepcion de su diagonal principal donde van unos\n",
    "matriz_identidad = np.eye(5)\n",
    "matriz_identidad"
   ]
  },
  {
   "cell_type": "code",
   "execution_count": 63,
   "metadata": {},
   "outputs": [
    {
     "data": {
      "text/plain": [
       "array([[100, 100, 100, 100, 100],\n",
       "       [100, 100, 100, 100, 100],\n",
       "       [100, 100, 100, 100, 100]])"
      ]
     },
     "execution_count": 63,
     "metadata": {},
     "output_type": "execute_result"
    }
   ],
   "source": [
    "# usando np.full(): Crea una matriz de un tamaño especificado y con un valor especificado\n",
    "matriz_full = np.full((3,5), 100)\n",
    "matriz_full"
   ]
  },
  {
   "cell_type": "code",
   "execution_count": 118,
   "metadata": {},
   "outputs": [
    {
     "data": {
      "text/plain": [
       "matrix([[1, 2, 3],\n",
       "        [4, 5, 6]])"
      ]
     },
     "execution_count": 118,
     "metadata": {},
     "output_type": "execute_result"
    }
   ],
   "source": [
    "matriz_matrix = np.matrix(data=[[1,2,3],[4,5,6]]) # Desaconsejado porque se puede discontinuar desde Numpy. Se recomienda armar np.arrays de 2 dimensiones\n",
    "matriz_matrix"
   ]
  },
  {
   "cell_type": "code",
   "execution_count": 125,
   "metadata": {},
   "outputs": [
    {
     "data": {
      "text/plain": [
       "matrix([[1, 2],\n",
       "        [3, 4],\n",
       "        [5, 6]])"
      ]
     },
     "execution_count": 125,
     "metadata": {},
     "output_type": "execute_result"
    }
   ],
   "source": [
    "matriz_matrix2 = np.matrix(data=[[1,2],[3,4],[5,6]])\n",
    "matriz_matrix2"
   ]
  },
  {
   "cell_type": "code",
   "execution_count": 123,
   "metadata": {},
   "outputs": [
    {
     "data": {
      "text/plain": [
       "matrix([[22, 28],\n",
       "        [49, 64]])"
      ]
     },
     "execution_count": 123,
     "metadata": {},
     "output_type": "execute_result"
    }
   ],
   "source": [
    "matriz_matrix * matriz_matrix2 # Hace una multiplicación matricial sin necesidad de usar np.matmul como con los arrays (ventaja de np.matrix)"
   ]
  },
  {
   "cell_type": "code",
   "execution_count": 64,
   "metadata": {},
   "outputs": [
    {
     "data": {
      "text/plain": [
       "array([[1, 2, 3],\n",
       "       [4, 5, 6]])"
      ]
     },
     "execution_count": 64,
     "metadata": {},
     "output_type": "execute_result"
    }
   ],
   "source": [
    "matriz"
   ]
  },
  {
   "cell_type": "code",
   "execution_count": 126,
   "metadata": {},
   "outputs": [
    {
     "ename": "AttributeError",
     "evalue": "`np.mat` was removed in the NumPy 2.0 release. Use `np.asmatrix` instead.",
     "output_type": "error",
     "traceback": [
      "\u001b[0;31m---------------------------------------------------------------------------\u001b[0m",
      "\u001b[0;31mAttributeError\u001b[0m                            Traceback (most recent call last)",
      "Cell \u001b[0;32mIn[126], line 1\u001b[0m\n\u001b[0;32m----> 1\u001b[0m \u001b[43mnp\u001b[49m\u001b[38;5;241;43m.\u001b[39;49m\u001b[43mmat\u001b[49m(matriz)\n",
      "File \u001b[0;32m~/Documents/Henry/.venv/lib/python3.11/site-packages/numpy/__init__.py:397\u001b[0m, in \u001b[0;36m__getattr__\u001b[0;34m(attr)\u001b[0m\n\u001b[1;32m    394\u001b[0m     \u001b[38;5;28;01mraise\u001b[39;00m \u001b[38;5;167;01mAttributeError\u001b[39;00m(__former_attrs__[attr])\n\u001b[1;32m    396\u001b[0m \u001b[38;5;28;01mif\u001b[39;00m attr \u001b[38;5;129;01min\u001b[39;00m __expired_attributes__:\n\u001b[0;32m--> 397\u001b[0m     \u001b[38;5;28;01mraise\u001b[39;00m \u001b[38;5;167;01mAttributeError\u001b[39;00m(\n\u001b[1;32m    398\u001b[0m         \u001b[38;5;124mf\u001b[39m\u001b[38;5;124m\"\u001b[39m\u001b[38;5;124m`np.\u001b[39m\u001b[38;5;132;01m{\u001b[39;00mattr\u001b[38;5;132;01m}\u001b[39;00m\u001b[38;5;124m` was removed in the NumPy 2.0 release. \u001b[39m\u001b[38;5;124m\"\u001b[39m\n\u001b[1;32m    399\u001b[0m         \u001b[38;5;124mf\u001b[39m\u001b[38;5;124m\"\u001b[39m\u001b[38;5;132;01m{\u001b[39;00m__expired_attributes__[attr]\u001b[38;5;132;01m}\u001b[39;00m\u001b[38;5;124m\"\u001b[39m\n\u001b[1;32m    400\u001b[0m     )\n\u001b[1;32m    402\u001b[0m \u001b[38;5;28;01mif\u001b[39;00m attr \u001b[38;5;241m==\u001b[39m \u001b[38;5;124m\"\u001b[39m\u001b[38;5;124mchararray\u001b[39m\u001b[38;5;124m\"\u001b[39m:\n\u001b[1;32m    403\u001b[0m     warnings\u001b[38;5;241m.\u001b[39mwarn(\n\u001b[1;32m    404\u001b[0m         \u001b[38;5;124m\"\u001b[39m\u001b[38;5;124m`np.chararray` is deprecated and will be removed from \u001b[39m\u001b[38;5;124m\"\u001b[39m\n\u001b[1;32m    405\u001b[0m         \u001b[38;5;124m\"\u001b[39m\u001b[38;5;124mthe main namespace in the future. Use an array with a string \u001b[39m\u001b[38;5;124m\"\u001b[39m\n\u001b[1;32m    406\u001b[0m         \u001b[38;5;124m\"\u001b[39m\u001b[38;5;124mor bytes dtype instead.\u001b[39m\u001b[38;5;124m\"\u001b[39m, \u001b[38;5;167;01mDeprecationWarning\u001b[39;00m, stacklevel\u001b[38;5;241m=\u001b[39m\u001b[38;5;241m2\u001b[39m)\n",
      "\u001b[0;31mAttributeError\u001b[0m: `np.mat` was removed in the NumPy 2.0 release. Use `np.asmatrix` instead."
     ]
    }
   ],
   "source": [
    "np.mat(matriz) # np.mat fue removido desde NumPy 2.0"
   ]
  },
  {
   "cell_type": "code",
   "execution_count": 127,
   "metadata": {},
   "outputs": [
    {
     "data": {
      "text/plain": [
       "array([[1, 2, 3],\n",
       "       [4, 5, 6]])"
      ]
     },
     "execution_count": 127,
     "metadata": {},
     "output_type": "execute_result"
    }
   ],
   "source": [
    "matriz"
   ]
  },
  {
   "cell_type": "code",
   "execution_count": 129,
   "metadata": {},
   "outputs": [
    {
     "data": {
      "text/plain": [
       "matrix([[1, 2, 3],\n",
       "        [4, 5, 6]])"
      ]
     },
     "execution_count": 129,
     "metadata": {},
     "output_type": "execute_result"
    }
   ],
   "source": [
    "np.asmatrix(matriz) #Reemplazo de np.mat"
   ]
  },
  {
   "cell_type": "markdown",
   "metadata": {},
   "source": [
    "**Para operaciones matriciales como la multiplicación de matrices, puedes usar np.dot, np.matmul o el operador @ con ndarray**"
   ]
  },
  {
   "cell_type": "markdown",
   "metadata": {},
   "source": [
    "## Operaciones con Matrices"
   ]
  },
  {
   "cell_type": "code",
   "execution_count": 130,
   "metadata": {},
   "outputs": [
    {
     "data": {
      "text/plain": [
       "array([[1, 2, 3],\n",
       "       [4, 5, 6]])"
      ]
     },
     "execution_count": 130,
     "metadata": {},
     "output_type": "execute_result"
    }
   ],
   "source": [
    "matriz"
   ]
  },
  {
   "cell_type": "code",
   "execution_count": 65,
   "metadata": {},
   "outputs": [
    {
     "data": {
      "text/plain": [
       "array([[1, 4],\n",
       "       [2, 5],\n",
       "       [3, 6]])"
      ]
     },
     "execution_count": 65,
     "metadata": {},
     "output_type": "execute_result"
    }
   ],
   "source": [
    "# Su transpuesta\n",
    "matriz_transpuesta = matriz.T\n",
    "matriz_transpuesta"
   ]
  },
  {
   "cell_type": "code",
   "execution_count": 68,
   "metadata": {},
   "outputs": [
    {
     "data": {
      "text/plain": [
       "array([[1, 4],\n",
       "       [2, 5]])"
      ]
     },
     "execution_count": 68,
     "metadata": {},
     "output_type": "execute_result"
    }
   ],
   "source": [
    "matriz_cuadrada = np.array([[1, 4],\n",
    "                            [2, 5]])\n",
    "matriz_cuadrada"
   ]
  },
  {
   "cell_type": "code",
   "execution_count": 69,
   "metadata": {},
   "outputs": [
    {
     "data": {
      "text/plain": [
       "array([[-1.66666667,  1.33333333],\n",
       "       [ 0.66666667, -0.33333333]])"
      ]
     },
     "execution_count": 69,
     "metadata": {},
     "output_type": "execute_result"
    }
   ],
   "source": [
    "matriz_inversa = np.linalg.inv(matriz_cuadrada) # Solo tienen inversa las matrices con forma cuadrada. Las rectanguales no. \n",
    "matriz_inversa"
   ]
  },
  {
   "cell_type": "code",
   "execution_count": 78,
   "metadata": {},
   "outputs": [
    {
     "data": {
      "text/plain": [
       "array([[2, 7],\n",
       "       [2, 6]])"
      ]
     },
     "execution_count": 78,
     "metadata": {},
     "output_type": "execute_result"
    }
   ],
   "source": [
    "matriz_cuadrada = np.array([[2,7],[2,6]])\n",
    "matriz_cuadrada"
   ]
  },
  {
   "cell_type": "code",
   "execution_count": 79,
   "metadata": {},
   "outputs": [
    {
     "data": {
      "text/plain": [
       "array([[-3. ,  3.5],\n",
       "       [ 1. , -1. ]])"
      ]
     },
     "execution_count": 79,
     "metadata": {},
     "output_type": "execute_result"
    }
   ],
   "source": [
    "matriz_inversa = np.linalg.inv(matriz_cuadrada) # Solo tienen inversa las matrices con forma cuadrada. Las rectanguales no. \n",
    "matriz_inversa"
   ]
  },
  {
   "cell_type": "markdown",
   "metadata": {},
   "source": [
    "#### Para verificar que estamos frente a una matriz inversa el producto de la original y la inversa debe ser una matriz inversa"
   ]
  },
  {
   "cell_type": "code",
   "execution_count": 80,
   "metadata": {},
   "outputs": [
    {
     "data": {
      "text/plain": [
       "array([[1., 0.],\n",
       "       [0., 1.]])"
      ]
     },
     "execution_count": 80,
     "metadata": {},
     "output_type": "execute_result"
    }
   ],
   "source": [
    "identidad_producida = np.matmul(matriz_cuadrada, matriz_inversa) # También podría haber usado np.dot()\n",
    "identidad_producida"
   ]
  },
  {
   "cell_type": "code",
   "execution_count": 81,
   "metadata": {},
   "outputs": [
    {
     "data": {
      "text/plain": [
       "np.float64(-2.0)"
      ]
     },
     "execution_count": 81,
     "metadata": {},
     "output_type": "execute_result"
    }
   ],
   "source": [
    "# Determinante de una matriz\n",
    "determinante = np.linalg.det(matriz_cuadrada)\n",
    "determinante"
   ]
  },
  {
   "cell_type": "markdown",
   "metadata": {},
   "source": [
    "## Estadísticas en NumPy\n",
    "\n",
    "- Los métodos estadísticos son claves para hacer data analytics así como el algebra lineal es clave para hacer data science\n",
    "- Los métodos estadísticos de NumPy son la base sobre la que está construidos los métodos estadísticos en Pandas. De allí su similitud que veremos más adelante. "
   ]
  },
  {
   "cell_type": "code",
   "execution_count": 84,
   "metadata": {},
   "outputs": [
    {
     "data": {
      "text/plain": [
       "array([-5.16785763e-01,  2.43972728e-01,  2.19281816e+00, -8.61861419e-01,\n",
       "        9.22352917e-01, -1.45910202e+00,  1.93324993e+00,  1.06193490e+00,\n",
       "        4.57952624e-01,  3.49724045e-01,  2.80232902e-02, -1.34891445e+00,\n",
       "        5.98172984e-01, -7.52227297e-01, -4.04771318e-01, -4.39135430e-01,\n",
       "       -5.47891793e-01, -6.37779164e-01, -3.47013539e-01, -1.34152642e+00,\n",
       "        1.66586691e-01, -1.19165298e+00, -9.27000439e-01, -2.35891481e-01,\n",
       "        5.11713161e-01,  1.07863955e+00,  2.41872759e-01,  2.88420507e-01,\n",
       "        4.48135228e-01, -8.13964506e-01, -4.39111022e-01,  9.86791344e-01,\n",
       "        1.04501425e+00,  5.09208395e-01, -1.06605800e+00,  5.88762000e-01,\n",
       "        4.50860104e-01,  1.62847580e+00, -3.10709831e-01, -1.30450495e+00,\n",
       "       -1.15618432e-01,  1.31918050e+00, -1.29124207e+00, -6.17216525e-01,\n",
       "       -1.57594071e+00, -5.97710188e-01, -1.42507006e+00, -9.19823864e-01,\n",
       "       -3.18884358e-02, -5.44346571e-01,  3.62841569e-01, -7.47257915e-01,\n",
       "        1.93040602e+00, -2.26192518e-01,  1.09834313e+00,  4.42807813e-01,\n",
       "        1.45124574e+00, -3.78498371e-01, -6.64202566e-01,  5.43947620e-01,\n",
       "       -5.99707175e-01, -9.93958219e-01, -6.01414886e-01, -1.71548207e+00,\n",
       "       -1.73690410e-01,  1.84229574e+00,  6.11096983e-01,  8.27057762e-02,\n",
       "       -4.33991387e-01,  1.77571772e+00, -5.66050748e-01, -4.34441334e-03,\n",
       "        2.20024500e+00, -1.77919781e-02, -2.32534221e+00,  1.52745928e+00,\n",
       "       -6.31506629e-01, -8.77509284e-01,  9.30516517e-02,  8.41983197e-01,\n",
       "        2.57329261e-01, -4.87512021e-01, -6.53331211e-01,  1.45974417e+00,\n",
       "        1.57435993e+00,  4.94369674e-01, -2.96325762e-01, -1.56324654e+00,\n",
       "       -2.74016992e-01,  4.26354111e-01, -9.45910881e-01,  3.55705104e-01,\n",
       "       -1.24805998e+00,  2.56776173e-01,  3.12846159e-01, -1.36495323e+00,\n",
       "       -4.60910878e-01, -7.47038110e-01, -6.87949063e-01, -9.08410550e-01,\n",
       "       -6.30463864e-01, -3.39651424e-01, -2.22570580e+00, -1.12282472e+00,\n",
       "       -7.17961719e-02, -1.29078303e-01,  1.55900038e+00,  7.29915389e-01,\n",
       "        4.01444800e-01, -1.44369288e+00, -2.66523354e+00,  8.01016549e-01,\n",
       "        8.38041249e-01, -5.82339923e-02, -1.22355656e+00, -9.49544365e-01,\n",
       "       -3.33709528e-01,  2.27924194e+00, -6.49567814e-01, -5.73846108e-01,\n",
       "       -9.49830021e-01, -6.59424482e-01,  7.37571872e-02,  7.85708449e-01,\n",
       "       -5.01896728e-02, -2.50093427e-02, -1.35314727e-01,  4.84326706e-01,\n",
       "        1.71613803e+00, -4.74290458e-01, -3.66791047e-01, -3.98914666e-01,\n",
       "       -2.51655263e-01,  4.63569291e-02, -8.85643056e-02, -4.35928873e-01,\n",
       "        1.07992547e+00, -1.42669161e+00, -1.37355948e-01, -1.58702706e+00,\n",
       "       -8.97750555e-01,  6.27268765e-01,  1.41930200e+00, -1.17095864e+00,\n",
       "        1.02014051e+00, -1.69799722e+00, -4.63097346e-01, -3.83104475e-01,\n",
       "        1.95973605e+00,  7.83726415e-02,  1.99427412e-01,  4.16707673e-01,\n",
       "       -8.65029922e-01, -2.60526453e-01, -5.30901571e-01, -5.60468224e-01,\n",
       "        1.58290482e+00, -1.04109633e+00,  5.74132116e-01, -9.69519864e-01,\n",
       "        1.09467921e+00, -9.21704648e-01,  1.30435580e+00, -9.68871565e-01,\n",
       "       -5.85853112e-01,  2.33713411e-01,  2.92698896e-01,  4.76537251e-01,\n",
       "       -2.89993645e-01, -9.49667301e-01,  1.17939138e+00,  8.09683037e-01,\n",
       "        7.83559224e-01, -4.89681869e-01,  8.28151225e-01,  8.46161543e-01,\n",
       "       -7.83956975e-01, -4.59864134e-01,  3.51682966e-01,  7.11878236e-02,\n",
       "        5.31238623e-01,  1.44931500e+00, -6.77426837e-01, -3.78412562e-01,\n",
       "       -2.68803048e-02,  2.32922242e-01,  1.03934845e-01,  6.66733044e-01,\n",
       "        6.89962573e-02, -8.67408926e-01, -8.78148098e-01,  8.31428839e-01,\n",
       "        7.80599449e-01,  2.14599394e+00, -8.78576558e-01, -1.18570983e+00,\n",
       "        3.43310291e-01,  5.65878925e-01, -1.28186097e+00, -4.73492334e-01,\n",
       "       -9.00826181e-01, -5.14207621e-01, -9.09964968e-01, -5.25397097e-01,\n",
       "        5.83256280e-01,  1.42694382e+00, -3.03836390e+00, -3.71648599e-01,\n",
       "       -1.41974266e+00, -2.80711379e+00,  1.12809167e+00, -9.31997673e-02,\n",
       "       -1.21624326e+00, -1.62544128e-01,  5.78443561e-01,  2.16813938e+00,\n",
       "       -3.49182888e-01,  8.45907241e-01,  2.20461726e+00, -5.55252621e-01,\n",
       "        1.11759166e+00, -1.26041640e+00,  5.45437250e-01, -8.24971978e-01,\n",
       "       -2.31539717e-01,  1.92259698e+00,  7.74076660e-01, -1.16321315e-01,\n",
       "        4.53101292e-01,  1.07673957e+00,  1.03886480e+00,  5.24580213e-01,\n",
       "        1.34520297e-01, -1.24126557e-01, -1.04780270e+00, -7.28101031e-01,\n",
       "       -1.35020381e+00,  1.04033598e+00, -1.27088607e+00, -9.03161858e-01,\n",
       "        1.78525983e+00,  1.01001704e+00,  5.72546052e-02,  1.91971756e+00,\n",
       "        9.08914512e-01,  1.12883229e+00,  5.36559009e-01, -4.93514826e-01,\n",
       "        1.00918536e+00, -1.82246551e+00,  9.95885612e-01, -8.08359124e-01,\n",
       "        1.33377778e+00,  3.84889454e-01,  1.15295857e+00,  2.40753953e-01,\n",
       "        8.81191424e-01, -8.23342433e-01, -2.07558531e+00, -1.14516568e-01,\n",
       "       -4.11272711e-01,  1.29727501e+00, -3.45280487e-01, -1.90967300e+00,\n",
       "       -1.61621106e+00,  9.70197814e-01,  9.42709003e-01, -1.44950657e+00,\n",
       "       -1.16733599e+00, -7.02952079e-01, -7.18827731e-01, -5.70610793e-01,\n",
       "        8.60230271e-01,  1.03404250e-01, -2.49993280e+00, -5.13293796e-01,\n",
       "       -1.58188894e-01, -1.97850902e-01, -2.44799784e-01, -8.24253745e-01,\n",
       "        2.80298639e-01,  3.62691363e-01, -1.26389658e-01, -9.51304847e-01,\n",
       "       -2.62845030e-01, -1.29209449e+00,  1.00423221e+00,  1.35318230e+00,\n",
       "        1.40542655e-01, -1.37965179e+00, -5.02255400e-01,  8.30771872e-01,\n",
       "        1.76760093e+00,  2.69104657e-01, -4.05853688e-01,  4.55962244e-01,\n",
       "       -5.05349323e-01,  7.05126541e-01,  1.27862929e+00,  1.10481741e+00,\n",
       "       -3.88567162e-01, -3.90597849e-01,  1.01213956e+00,  2.10659494e+00,\n",
       "        2.05512738e-01,  1.23385644e+00,  6.80566969e-01,  3.51301788e-02,\n",
       "       -9.75713334e-01,  1.15849957e+00,  1.53558247e+00,  1.23152092e+00,\n",
       "        6.29386416e-01, -1.22780590e+00, -3.79036941e-02, -4.65022732e-02,\n",
       "        2.88155782e+00,  2.21607099e-01, -1.71013479e-01, -5.31729957e-01,\n",
       "        8.23919058e-01, -1.69186405e-01,  6.82430472e-01, -1.03501844e+00,\n",
       "        7.31493339e-01,  4.30927439e-01, -7.83713047e-01,  7.89475823e-01,\n",
       "       -5.84411762e-01,  2.12054808e+00,  1.63822730e-01, -1.01990540e+00,\n",
       "       -1.30257790e+00,  1.72707862e-01, -2.19287594e-01, -1.30715417e+00,\n",
       "       -1.09776057e-01,  4.97190677e-02,  4.24265407e-01, -6.66686480e-01,\n",
       "        2.93682813e-01,  1.54758720e+00,  2.38416667e+00, -1.24702838e+00,\n",
       "       -1.68714548e-01, -4.47838511e-02, -8.88639064e-01,  1.00510264e+00,\n",
       "       -2.42053418e-01, -1.03862052e+00,  8.31416381e-01,  8.65569243e-01,\n",
       "        2.03158667e+00,  8.61349708e-01, -2.40712834e+00,  6.68577686e-04,\n",
       "        1.20176460e+00,  1.06879321e+00,  9.35592492e-01, -6.67674384e-01,\n",
       "       -8.77813022e-01, -1.16237421e+00,  7.87784529e-01, -3.02713577e-01,\n",
       "       -7.33556581e-01,  2.17360077e+00, -8.13043957e-01, -1.76788266e-01,\n",
       "        1.95547663e+00,  1.12227797e+00,  6.57834821e-02,  4.97159710e-01,\n",
       "        5.71060181e-01, -1.09810396e-01, -4.39538297e-01,  4.70625356e-01,\n",
       "       -2.12210136e-01, -1.49898968e+00, -5.20717246e-01, -7.34893838e-01,\n",
       "        6.55847443e-01, -6.40426295e-01, -1.55369490e+00,  2.16737174e-01,\n",
       "       -2.73023705e-01, -1.99934862e+00,  4.57432646e-02, -7.74136449e-01,\n",
       "       -8.41866869e-02, -2.31515127e-01,  6.89106218e-01, -1.46968145e+00,\n",
       "       -1.42412183e+00, -1.48242880e-01, -1.47792639e+00,  4.12709446e-01,\n",
       "        1.44606290e+00, -6.23101055e-01,  1.36722110e+00, -5.34494623e-01,\n",
       "        2.54344838e-01, -3.28785763e-01,  2.04177036e+00,  2.14292520e-01,\n",
       "       -5.92893477e-01, -5.97491082e-01,  1.89028095e-01,  4.27868285e-01,\n",
       "        3.61383714e-02, -6.39676948e-01,  5.01128532e-01,  8.40118636e-03,\n",
       "        2.75584134e-01,  1.53436399e+00,  3.22335602e-01, -2.96300619e+00,\n",
       "        2.24481622e-01, -4.49231331e-01,  8.34567186e-02,  1.25326380e+00,\n",
       "        8.16279145e-01,  1.07802843e+00,  1.36578774e+00, -1.00427115e+00,\n",
       "       -2.15676706e-01,  6.89119936e-01,  4.54011359e-01, -1.56125277e+00,\n",
       "        2.30579530e+00, -2.40027014e-01,  2.28756591e+00,  1.35763073e+00,\n",
       "       -1.39307201e+00,  9.93761216e-01,  5.66913619e-01,  1.21943903e+00,\n",
       "        9.72471157e-02,  4.34194609e-01,  1.61133366e-01, -9.91270311e-01,\n",
       "       -1.56686998e-01, -5.28884798e-02, -2.09813898e+00,  1.56726823e+00,\n",
       "        1.96214012e-01,  3.55684971e-01, -1.05301296e+00,  4.24691346e-01,\n",
       "       -5.39264886e-01,  7.95527547e-01, -1.46662455e+00,  1.48953296e+00,\n",
       "       -9.67245806e-01, -1.91749678e-01,  5.46618453e-02,  7.01310917e-01,\n",
       "        4.95117455e-01, -2.60872708e-01, -3.75746179e-01, -8.19382937e-01,\n",
       "        9.12586252e-01, -1.72704303e+00,  2.56361349e-01,  1.23367544e+00,\n",
       "        1.44286991e+00, -7.36145517e-01,  3.01785095e-01,  4.15235036e-01,\n",
       "        9.42063738e-01,  1.21277523e-01, -2.34180996e-01,  1.00290695e+00,\n",
       "        3.09403827e-01, -6.14239767e-01, -9.77953415e-01,  1.04501261e+00,\n",
       "       -1.40332549e+00, -1.78310407e+00,  6.90984144e-01,  3.10981838e-01,\n",
       "       -1.17025699e+00,  1.21656998e+00, -9.02903532e-01,  7.67085512e-01,\n",
       "       -5.93816350e-01,  1.31694142e+00, -7.82353830e-02, -2.10019477e-01,\n",
       "       -1.45505121e+00, -7.07603559e-01, -7.25299668e-01,  8.66420567e-01,\n",
       "        6.20836622e-01, -1.57522588e+00,  3.80946321e-01,  5.06084080e-01,\n",
       "        2.59943482e-01, -9.76635045e-01, -7.24806979e-01,  7.35735998e-01,\n",
       "       -1.08366415e+00,  3.96582969e-01, -4.00516403e-01,  3.24679766e-01,\n",
       "        1.41484779e+00,  4.46752015e-01,  8.62931697e-01, -1.10477572e+00,\n",
       "       -1.56778362e+00,  4.07490736e-01,  8.54989967e-01, -4.44616814e-01,\n",
       "       -6.45327074e-01,  1.95611117e-01,  4.58238967e-01, -1.35775693e+00,\n",
       "        3.85762594e-02, -2.74003903e-01,  6.58095166e-01, -3.66099768e-01,\n",
       "        1.00770176e+00, -1.17572705e+00, -1.45067453e+00, -1.31315557e-01,\n",
       "       -9.69896006e-01, -7.17310427e-01,  1.59906931e-01,  3.08729182e-02,\n",
       "       -9.93519138e-01, -4.06346720e-01,  2.31577572e+00,  3.53233425e-01,\n",
       "       -5.05207330e-01, -1.29540336e+00,  4.15472545e-01,  3.35479881e-01,\n",
       "        1.31520778e+00,  9.33990443e-01,  5.67863919e-01, -6.23536934e-01,\n",
       "       -9.96617938e-01,  1.51305399e+00, -1.26296656e+00,  1.14122784e+00,\n",
       "        4.55327957e-01, -7.74018333e-01,  5.29131631e-02,  1.45247071e+00,\n",
       "       -4.92727623e-01,  7.64919641e-01,  1.51956253e+00,  3.21314144e-01,\n",
       "        2.07645835e+00, -7.34671053e-01, -1.24372129e+00, -1.02792100e+00,\n",
       "       -7.42999952e-02, -1.23513553e+00, -8.22104123e-01, -6.58816299e-01,\n",
       "        1.24657838e+00,  1.20003513e-01,  9.68835764e-01,  4.27287462e-01,\n",
       "        7.91061671e-01,  5.98288194e-01, -1.70903425e+00, -9.68051959e-01,\n",
       "       -1.66298458e-01,  9.24928021e-01,  3.23168915e-02,  5.00687445e-02,\n",
       "        2.51605162e-01, -9.79590171e-01,  3.84820661e-01, -1.37164696e+00,\n",
       "       -6.33563161e-02, -1.08454817e+00,  3.52362155e-01, -2.52576319e-01,\n",
       "       -5.63371158e-02,  8.90307990e-01,  4.84201316e-01, -8.48198600e-01,\n",
       "       -1.11427818e+00,  1.13542674e+00,  9.96686776e-01, -5.25039761e-01,\n",
       "        1.22849291e-01, -7.26502370e-01, -1.14234395e+00,  2.59666009e-01,\n",
       "        8.04945924e-01, -3.74392507e-01, -6.94983586e-01,  3.62239343e-01,\n",
       "       -5.41117837e-01,  6.30807533e-01, -4.64406055e-02,  9.31030825e-01,\n",
       "       -1.03825390e+00,  4.16053501e-01, -5.29794982e-01, -4.87234839e-01,\n",
       "        5.08335596e-01,  1.48585296e+00, -9.87549566e-01,  1.03212259e+00,\n",
       "        5.00804068e-01,  4.14598344e-01,  1.04771672e+00,  2.05588146e-01,\n",
       "        3.83597567e-01,  4.59911981e-01,  2.53591925e+00,  1.65474592e-01,\n",
       "       -6.94062759e-01,  5.19963039e-01,  1.75113167e-02, -1.62171007e+00,\n",
       "        1.41677009e-01,  6.06069366e-01,  1.47661571e+00,  7.77749448e-02,\n",
       "       -1.02667207e-01,  2.18471952e+00,  1.15202303e+00,  5.12945862e-01,\n",
       "        1.21080015e-01,  3.00806347e-01, -6.30693057e-01, -3.13648872e-01,\n",
       "       -7.30206682e-01, -8.03445931e-01,  1.08029238e-01, -7.21531623e-01,\n",
       "        8.04155460e-01, -4.12425769e-01, -5.50951375e-02, -2.34132074e-02,\n",
       "       -2.30656790e-01,  5.71341960e-01,  1.56831328e+00, -7.55187762e-01,\n",
       "       -4.52006922e-01,  8.18180597e-01,  1.09230063e-01,  3.11511553e-01,\n",
       "       -8.86905442e-01, -1.06945306e+00, -1.80957740e+00,  8.99200988e-01,\n",
       "       -4.70315114e-01,  4.64697177e-01, -1.88306649e-01,  2.41357656e+00,\n",
       "       -3.32835557e-02, -4.61313441e-01,  1.14903452e+00,  1.18777154e-01,\n",
       "       -6.83575792e-02, -1.06020283e+00,  8.08703544e-01,  9.74631502e-02,\n",
       "        9.14590764e-02,  1.50060749e+00, -1.10407931e+00, -4.84518499e-01,\n",
       "       -2.89530786e-01, -4.20928438e-01,  8.66066476e-01, -9.01322517e-01,\n",
       "        4.16902529e-01,  6.53713281e-01, -4.77133085e-01, -1.61811582e+00,\n",
       "       -5.30971425e-01,  1.03853375e+00,  1.50061241e+00,  1.19291597e+00,\n",
       "        9.11708676e-01, -5.91304158e-01,  1.00190761e-01, -7.21433002e-01,\n",
       "       -1.28486402e+00,  8.00664889e-01,  2.00668783e-01, -5.39901917e-02,\n",
       "        1.66931526e+00, -4.36511849e-01,  1.21321560e+00, -1.48231560e+00,\n",
       "        9.27717084e-01,  8.65577297e-01,  8.31673368e-03, -2.35644932e-01,\n",
       "        2.01556094e-01,  4.73976245e-01,  2.43008532e-01,  3.25859121e-01,\n",
       "        1.16608776e+00, -2.09447863e+00, -7.23693630e-01,  5.05076066e-01,\n",
       "       -1.66101787e+00,  3.37874305e-01,  6.89144655e-01,  3.10100316e-01,\n",
       "        3.56673527e-01, -6.86073673e-01, -4.27438080e-01, -9.90032490e-02,\n",
       "        1.26935284e+00, -3.45521943e-01,  6.35399370e-01, -3.40699269e-01,\n",
       "       -6.03178218e-01,  7.46045390e-02,  5.54479083e-01, -5.47873100e-01,\n",
       "       -7.38043102e-01,  3.19371275e-01, -1.16485642e-01,  2.70281103e-01,\n",
       "       -9.44476480e-01,  7.41508205e-01,  6.31597317e-01,  1.87311601e+00,\n",
       "        2.15645046e+00,  1.23571664e+00, -7.09565075e-02,  7.15513136e-01,\n",
       "       -1.06775871e+00,  8.99494799e-01,  5.49124036e-01, -9.33189221e-01,\n",
       "        6.34409318e-01, -6.86092459e-01, -9.00288059e-01, -1.55755214e+00,\n",
       "       -4.29077031e-01,  9.17775524e-01, -5.67065621e-02, -1.39921190e+00,\n",
       "        1.48942772e+00,  5.30678645e-01,  1.27131766e+00, -1.86335567e-01,\n",
       "       -1.64049405e+00,  2.28434229e+00,  6.27347071e-01, -3.23018353e-01,\n",
       "       -7.76345473e-01, -1.72993910e+00,  5.86334506e-01,  2.08187401e+00,\n",
       "       -8.26943648e-01, -1.54518192e-01,  1.74599645e-02, -5.04192125e-01,\n",
       "       -8.78339014e-01,  5.28148528e-01, -4.38606159e-01,  1.98971124e-01,\n",
       "       -6.04276524e-01,  1.54263018e+00,  1.17340015e+00, -2.57114144e-01,\n",
       "       -3.96437788e-01, -1.00704969e-02, -1.98593054e-01,  1.92091359e-01,\n",
       "        1.28777639e+00, -4.13511863e-01, -8.03466304e-01, -7.42214873e-02,\n",
       "       -1.10290870e-01,  9.82714977e-02, -7.97949477e-01, -1.59761023e+00,\n",
       "        5.93456352e-01, -1.00189595e+00,  8.43153970e-01,  1.29884169e+00,\n",
       "       -9.49810941e-01,  3.75825348e-01, -1.74724140e-01, -7.24815088e-01,\n",
       "       -5.70006578e-01,  7.37611317e-01, -7.67424703e-01,  1.04140109e+00,\n",
       "       -1.27202011e+00, -5.66914982e-01, -1.13506904e-01, -3.09072891e-01,\n",
       "       -1.69592307e+00,  5.01053121e-01,  5.27111331e-01,  1.28503104e+00,\n",
       "       -2.75048528e-01, -6.40003860e-01, -1.81080041e-01,  2.26007375e-01,\n",
       "       -6.52513595e-02, -6.48074058e-01, -1.27493140e-01,  1.58972500e-01,\n",
       "        4.89520553e-01,  9.96965436e-01,  6.05744399e-01, -2.79280587e-01,\n",
       "        6.69818168e-01,  5.12279939e-01, -8.92867356e-02,  9.75005582e-02,\n",
       "        8.14855872e-01,  9.56984660e-01, -7.88832011e-01,  3.83429551e-01,\n",
       "        3.26152178e-01,  4.80249206e-01,  1.34388562e+00, -2.20549733e+00,\n",
       "        1.36618346e+00, -1.00835168e+00,  3.41858446e-01,  9.39193296e-01,\n",
       "        6.53903881e-01, -2.85251457e-01, -1.22167924e-01, -5.71697216e-01,\n",
       "        3.58562126e-01, -1.50807198e+00,  8.14534717e-01,  4.93025809e-01,\n",
       "       -6.67522079e-01, -9.09384193e-02, -8.51033309e-01, -2.10989694e+00,\n",
       "       -8.61698323e-01, -2.11285526e+00, -2.40982321e+00, -2.59433472e-01,\n",
       "       -9.85744209e-01, -9.57857037e-01, -1.08834938e+00, -8.19482637e-01,\n",
       "       -1.14683096e-01, -1.27021660e+00,  1.57066616e+00, -4.39481503e-01,\n",
       "        4.73722084e-01,  3.77052409e-01, -2.72265926e-01, -1.51697255e+00,\n",
       "       -2.79179917e-01, -1.08594742e-01,  8.95210815e-02, -1.04667610e-01,\n",
       "        4.16703423e-01,  9.44861687e-01, -9.81821300e-01, -1.74357248e-01,\n",
       "        6.17815499e-01, -7.00881840e-01,  1.32062352e-01, -1.66808464e+00,\n",
       "       -1.34247689e+00, -8.25533724e-01, -1.20626950e+00,  9.25466052e-01,\n",
       "       -6.15263053e-01, -1.61115314e+00,  1.07653002e+00,  9.38562356e-01,\n",
       "        4.06648951e-01, -7.68104741e-01, -2.96354630e-01, -1.91871779e-01,\n",
       "        1.31274316e+00, -3.91901354e-01,  3.40889494e-01, -6.01726135e-02,\n",
       "        4.89045763e-02,  5.59442928e-01, -1.80363884e+00,  3.93651217e-01,\n",
       "       -4.27295043e-01,  9.42473458e-01,  1.16994897e+00, -4.99805270e-01,\n",
       "        5.24518450e-01,  4.07084422e-01,  2.04273064e-01, -1.70200505e+00,\n",
       "        1.16121647e+00,  1.43868427e+00,  1.43595268e+00,  3.11451771e-01,\n",
       "       -1.51298192e+00, -5.51346920e-01, -5.16512495e-01,  1.04570332e+00,\n",
       "       -1.31129317e+00,  1.15663548e+00, -7.12585146e-01, -1.20465977e+00,\n",
       "        5.55242161e-01, -1.64995815e-01,  3.84017974e-01, -1.43992480e+00,\n",
       "       -2.19427423e-01,  4.16471149e+00,  1.38885123e+00,  1.64056180e+00,\n",
       "        1.53694213e+00,  2.50891240e+00, -7.35873117e-01, -2.26867849e-01,\n",
       "        6.70980549e-01, -1.60699549e+00,  1.59374309e+00, -4.62532445e-01,\n",
       "        1.59471284e+00,  3.43975936e-01,  1.51700758e+00, -2.68067573e+00,\n",
       "       -2.90237489e-01,  2.34479756e-01,  5.05372429e-01, -3.47221315e-01,\n",
       "        1.63959248e+00,  1.24398635e+00,  1.23299896e+00,  1.71548637e+00,\n",
       "        4.35978109e-01, -3.91640294e-01, -6.51407314e-01, -2.43433870e+00,\n",
       "        9.44114183e-01,  5.30540420e-01,  4.81051549e-01, -1.90240446e-01,\n",
       "       -2.81366772e-01,  5.21994741e-01,  5.60468335e-01, -1.73351025e+00,\n",
       "       -8.36823449e-01, -1.56249167e+00, -1.21388171e+00,  4.25445808e-01,\n",
       "       -1.58494705e+00,  3.28179673e-01,  3.82572233e-01,  1.01847305e-02,\n",
       "        2.14020627e+00, -6.87590330e-01,  1.22736566e+00,  1.26467499e-01,\n",
       "       -6.00535711e-01, -2.88029418e-01, -9.75081040e-01,  1.63273908e+00,\n",
       "        3.49091464e-01, -3.71621895e-01,  8.80845253e-01,  1.84752507e+00,\n",
       "       -1.33642641e+00, -1.73239696e+00, -4.63339610e-01,  6.91985453e-01,\n",
       "        4.98778572e-01, -1.43584834e+00,  9.61832106e-01, -1.44791634e-02,\n",
       "        5.02179625e-01, -3.56062369e-02,  5.66905369e-02, -2.29726409e-01,\n",
       "       -1.81402912e+00,  2.22138697e-01, -2.28497939e-01,  1.11908862e+00,\n",
       "        7.70259578e-01, -5.89706602e-01,  2.10917592e-01,  4.25417633e-02,\n",
       "        2.19560969e+00,  8.00193615e-01, -1.83380897e+00, -7.37191146e-01,\n",
       "        1.47892333e-01,  1.31240437e-01, -6.94784197e-01,  1.19693423e+00,\n",
       "        2.36852385e+00,  6.20998703e-01,  7.85306899e-01,  4.61638923e-01])"
      ]
     },
     "execution_count": 84,
     "metadata": {},
     "output_type": "execute_result"
    }
   ],
   "source": [
    "campana # Array de 100.000 numeros entre el cero y el uno"
   ]
  },
  {
   "cell_type": "markdown",
   "metadata": {},
   "source": [
    "### Medidas de Tendencia Central: Media o Promedio, Mediana y Moda"
   ]
  },
  {
   "cell_type": "code",
   "execution_count": 93,
   "metadata": {},
   "outputs": [],
   "source": [
    "array_numeros = np.array([[1, 2, 3, 4, 5, 6, 7, 8, 1000000]])"
   ]
  },
  {
   "cell_type": "code",
   "execution_count": 91,
   "metadata": {},
   "outputs": [
    {
     "data": {
      "text/plain": [
       "np.float64(100004.5)"
      ]
     },
     "execution_count": 91,
     "metadata": {},
     "output_type": "execute_result"
    }
   ],
   "source": [
    "# promedio de campana\n",
    "np.mean(array_numeros)"
   ]
  },
  {
   "cell_type": "code",
   "execution_count": 88,
   "metadata": {},
   "outputs": [
    {
     "data": {
      "text/plain": [
       "np.float64(5.0)"
      ]
     },
     "execution_count": 88,
     "metadata": {},
     "output_type": "execute_result"
    }
   ],
   "source": [
    "# promedio de campana - forma 2\n",
    "array_numeros.mean()"
   ]
  },
  {
   "cell_type": "code",
   "execution_count": 94,
   "metadata": {},
   "outputs": [
    {
     "data": {
      "text/plain": [
       "np.float64(5.0)"
      ]
     },
     "execution_count": 94,
     "metadata": {},
     "output_type": "execute_result"
    }
   ],
   "source": [
    "# mediana de campana\n",
    "np.median(array_numeros)"
   ]
  },
  {
   "cell_type": "markdown",
   "metadata": {},
   "source": [
    "**No hay moda en Numpy pero podemos calcularla desde otro package: scipy**"
   ]
  },
  {
   "cell_type": "code",
   "execution_count": 165,
   "metadata": {},
   "outputs": [
    {
     "name": "stdout",
     "output_type": "stream",
     "text": [
      "Collecting scipy\n",
      "  Downloading scipy-1.14.0-cp311-cp311-macosx_14_0_arm64.whl.metadata (60 kB)\n",
      "\u001b[2K     \u001b[90m━━━━━━━━━━━━━━━━━━━━━━━━━━━━━━━━━━━━━━━━\u001b[0m \u001b[32m60.8/60.8 kB\u001b[0m \u001b[31m4.3 MB/s\u001b[0m eta \u001b[36m0:00:00\u001b[0m\n",
      "\u001b[?25hRequirement already satisfied: numpy<2.3,>=1.23.5 in /Users/mgobea/Documents/Henry/.venv/lib/python3.11/site-packages (from scipy) (2.0.0)\n",
      "Downloading scipy-1.14.0-cp311-cp311-macosx_14_0_arm64.whl (23.1 MB)\n",
      "\u001b[2K   \u001b[90m━━━━━━━━━━━━━━━━━━━━━━━━━━━━━━━━━━━━━━━━\u001b[0m \u001b[32m23.1/23.1 MB\u001b[0m \u001b[31m36.5 MB/s\u001b[0m eta \u001b[36m0:00:00\u001b[0ma \u001b[36m0:00:01\u001b[0m\n",
      "\u001b[?25hInstalling collected packages: scipy\n",
      "Successfully installed scipy-1.14.0\n"
     ]
    }
   ],
   "source": [
    "# Instalamos scipy. Uso de Terminal desde Jupyter Notebook! Plus+\n",
    "! pip install scipy"
   ]
  },
  {
   "cell_type": "code",
   "execution_count": 166,
   "metadata": {},
   "outputs": [],
   "source": [
    "# Actualizamos los requirements.txt\n",
    "! pip freeze > requirements.txt"
   ]
  },
  {
   "cell_type": "code",
   "execution_count": 95,
   "metadata": {},
   "outputs": [
    {
     "name": "stdout",
     "output_type": "stream",
     "text": [
      "Moda: 4\n",
      "Frecuencia de la moda: 6\n"
     ]
    }
   ],
   "source": [
    "# Moda de campana\n",
    "from scipy import stats\n",
    "\n",
    "# Creo un array de ejemplo\n",
    "data = np.array([1, 2, 2, 3, 3, 3, 4, 4, 4, 4, 4, 4, 5, 5])\n",
    "\n",
    "# Calcular la moda\n",
    "mode_result = stats.mode(data)\n",
    "\n",
    "print(\"Moda:\", mode_result.mode)\n",
    "print(\"Frecuencia de la moda:\", mode_result.count)"
   ]
  },
  {
   "cell_type": "code",
   "execution_count": 97,
   "metadata": {},
   "outputs": [
    {
     "name": "stdout",
     "output_type": "stream",
     "text": [
      "Moda: 4\n",
      "Frecuencia de la moda: 6\n"
     ]
    }
   ],
   "source": [
    "# Sin usar otra librería\n",
    "# Crear un array de ejemplo\n",
    "data = np.array([1, 2, 2, 3, 3, 3, 4, 4, 4, 4, 4, 4, 5, 5])\n",
    "\n",
    "# Calcular la moda\n",
    "values, counts = np.unique(data, return_counts=True)\n",
    "index = np.argmax(counts)\n",
    "mode = values[index]\n",
    "quantity = counts[index]\n",
    "\n",
    "print(\"Moda:\", mode)\n",
    "print(\"Frecuencia de la moda:\", quantity)"
   ]
  },
  {
   "cell_type": "code",
   "execution_count": 179,
   "metadata": {},
   "outputs": [
    {
     "data": {
      "text/plain": [
       "(array([1, 2, 3, 4, 5]), array([1, 2, 3, 6, 2]))"
      ]
     },
     "execution_count": 179,
     "metadata": {},
     "output_type": "execute_result"
    }
   ],
   "source": [
    "np.unique(data, return_counts=True)"
   ]
  },
  {
   "cell_type": "code",
   "execution_count": 181,
   "metadata": {},
   "outputs": [
    {
     "data": {
      "text/plain": [
       "np.int64(3)"
      ]
     },
     "execution_count": 181,
     "metadata": {},
     "output_type": "execute_result"
    }
   ],
   "source": [
    "np.argmax(counts)"
   ]
  },
  {
   "cell_type": "markdown",
   "metadata": {},
   "source": [
    "#### Maximos y Minimos"
   ]
  },
  {
   "cell_type": "code",
   "execution_count": 98,
   "metadata": {},
   "outputs": [
    {
     "data": {
      "text/plain": [
       "np.int64(1000000)"
      ]
     },
     "execution_count": 98,
     "metadata": {},
     "output_type": "execute_result"
    }
   ],
   "source": [
    "np.max(array_numeros)"
   ]
  },
  {
   "cell_type": "code",
   "execution_count": 99,
   "metadata": {},
   "outputs": [
    {
     "data": {
      "text/plain": [
       "np.int64(1)"
      ]
     },
     "execution_count": 99,
     "metadata": {},
     "output_type": "execute_result"
    }
   ],
   "source": [
    "np.min(array_numeros)"
   ]
  },
  {
   "cell_type": "markdown",
   "metadata": {},
   "source": [
    "#### Medidas de dispersión"
   ]
  },
  {
   "cell_type": "code",
   "execution_count": 183,
   "metadata": {},
   "outputs": [
    {
     "data": {
      "text/plain": [
       "np.float64(1.0015403978064326)"
      ]
     },
     "execution_count": 183,
     "metadata": {},
     "output_type": "execute_result"
    }
   ],
   "source": [
    "np.std(campana)"
   ]
  },
  {
   "cell_type": "code",
   "execution_count": 184,
   "metadata": {},
   "outputs": [
    {
     "data": {
      "text/plain": [
       "np.float64(1.003083168438267)"
      ]
     },
     "execution_count": 184,
     "metadata": {},
     "output_type": "execute_result"
    }
   ],
   "source": [
    "np.var(campana)"
   ]
  },
  {
   "cell_type": "markdown",
   "metadata": {},
   "source": [
    "#### Percentiles"
   ]
  },
  {
   "cell_type": "code",
   "execution_count": 100,
   "metadata": {},
   "outputs": [
    {
     "data": {
      "text/plain": [
       "array([-0.65896834,  0.00929296,  0.66750432])"
      ]
     },
     "execution_count": 100,
     "metadata": {},
     "output_type": "execute_result"
    }
   ],
   "source": [
    "percentiles = np.percentile(campana, [25,50,75])\n",
    "percentiles"
   ]
  },
  {
   "cell_type": "code",
   "execution_count": 101,
   "metadata": {},
   "outputs": [
    {
     "data": {
      "text/plain": [
       "np.float64(0.00929295842821433)"
      ]
     },
     "execution_count": 101,
     "metadata": {},
     "output_type": "execute_result"
    }
   ],
   "source": [
    "np.median(campana) # La mediana es siempre el percentile 50"
   ]
  },
  {
   "cell_type": "markdown",
   "metadata": {},
   "source": [
    "## Funciones de Mascaras"
   ]
  },
  {
   "cell_type": "code",
   "execution_count": 107,
   "metadata": {},
   "outputs": [],
   "source": [
    "# np.triu y np.tril\n",
    "resultados = np.array([[0, 2, 1, 3],\n",
    "                       [2, 1, 4, 1],\n",
    "                       [1, 4, 1, 5],\n",
    "                       [3, 1, 5, 0]])\n",
    "\n",
    "# Nos quedamos solo con la parter superior derecha de la transversal principal para el análisis\n",
    "triangulo_superior = np.triu(resultados)\n",
    "# Nos quedamos solo con la parte inferior izquierda de la transvarsal principal\n",
    "triangulo_inferior = np.tril(resultados)"
   ]
  },
  {
   "cell_type": "code",
   "execution_count": 108,
   "metadata": {},
   "outputs": [
    {
     "data": {
      "text/plain": [
       "array([[0, 2, 1, 3],\n",
       "       [2, 1, 4, 1],\n",
       "       [1, 4, 1, 5],\n",
       "       [3, 1, 5, 0]])"
      ]
     },
     "execution_count": 108,
     "metadata": {},
     "output_type": "execute_result"
    }
   ],
   "source": [
    "resultados"
   ]
  },
  {
   "cell_type": "code",
   "execution_count": 109,
   "metadata": {},
   "outputs": [
    {
     "data": {
      "text/plain": [
       "array([[0, 2, 1, 3],\n",
       "       [0, 1, 4, 1],\n",
       "       [0, 0, 1, 5],\n",
       "       [0, 0, 0, 0]])"
      ]
     },
     "execution_count": 109,
     "metadata": {},
     "output_type": "execute_result"
    }
   ],
   "source": [
    "triangulo_superior"
   ]
  },
  {
   "cell_type": "code",
   "execution_count": 110,
   "metadata": {},
   "outputs": [
    {
     "data": {
      "text/plain": [
       "array([[0, 0, 0, 0],\n",
       "       [2, 1, 0, 0],\n",
       "       [1, 4, 1, 0],\n",
       "       [3, 1, 5, 0]])"
      ]
     },
     "execution_count": 110,
     "metadata": {},
     "output_type": "execute_result"
    }
   ],
   "source": [
    "triangulo_inferior"
   ]
  },
  {
   "cell_type": "code",
   "execution_count": 111,
   "metadata": {},
   "outputs": [
    {
     "data": {
      "text/plain": [
       "array([[ True,  True,  True,  True],\n",
       "       [ True, False,  True,  True],\n",
       "       [ True,  True, False,  True],\n",
       "       [ True,  True,  True,  True]])"
      ]
     },
     "execution_count": 111,
     "metadata": {},
     "output_type": "execute_result"
    }
   ],
   "source": [
    "# Si mi diagonal principal son todos ceros entonces: \n",
    "resultados == (triangulo_inferior + triangulo_superior)"
   ]
  },
  {
   "cell_type": "code",
   "execution_count": 112,
   "metadata": {},
   "outputs": [
    {
     "data": {
      "text/plain": [
       "array([[1, 1, 1, 1],\n",
       "       [1, 1, 1, 1],\n",
       "       [1, 1, 1, 1],\n",
       "       [1, 1, 1, 1]])"
      ]
     },
     "execution_count": 112,
     "metadata": {},
     "output_type": "execute_result"
    }
   ],
   "source": [
    "# np.ones_likes() para crear un array de iguales dimensiones todo lleno de unos\n",
    "resultados_unos = np.ones_like(resultados)\n",
    "resultados_unos"
   ]
  },
  {
   "cell_type": "markdown",
   "metadata": {},
   "source": [
    "#### Uso avanzado y combinado de mascaras o filtros"
   ]
  },
  {
   "cell_type": "code",
   "execution_count": 113,
   "metadata": {},
   "outputs": [
    {
     "data": {
      "text/plain": [
       "array([27,  9, 74, 49, 46, 83, 89, 17, 30, 92, 26, 89, 40, 54, 91, 61, 43,\n",
       "       20, 63, 92, 46, 13, 97, 21, 63, 21, 51, 97, 59, 64, 22, 45, 12, 57,\n",
       "       37, 62,  6, 80, 24, 40, 69, 24, 61, 95,  8, 29,  2, 78, 16, 56, 30,\n",
       "       29, 16, 87, 65, 27, 92, 89, 65, 86, 36,  6, 47, 79, 48, 63, 60,  9,\n",
       "       26,  4, 26, 20, 89, 18, 67, 72, 68,  1, 35, 29, 51,  1, 36, 90, 90,\n",
       "        2, 46,  4, 26, 90, 38,  3, 44, 67, 52, 48, 46, 68, 36, 62])"
      ]
     },
     "execution_count": 113,
     "metadata": {},
     "output_type": "execute_result"
    }
   ],
   "source": [
    "array_para_filtrar = np.random.randint(low=1, high=100, size=100)\n",
    "array_para_filtrar"
   ]
  },
  {
   "cell_type": "code",
   "execution_count": 115,
   "metadata": {},
   "outputs": [],
   "source": [
    "condicion1 = array_para_filtrar > 50\n",
    "condicion2 = array_para_filtrar % 2 == 0"
   ]
  },
  {
   "cell_type": "code",
   "execution_count": 116,
   "metadata": {},
   "outputs": [
    {
     "data": {
      "text/plain": [
       "array([False, False,  True, False, False,  True,  True, False, False,\n",
       "        True, False,  True, False,  True,  True,  True, False, False,\n",
       "        True,  True, False, False,  True, False,  True, False,  True,\n",
       "        True,  True,  True, False, False, False,  True, False,  True,\n",
       "       False,  True, False, False,  True, False,  True,  True, False,\n",
       "       False, False,  True, False,  True, False, False, False,  True,\n",
       "        True, False,  True,  True,  True,  True, False, False, False,\n",
       "        True, False,  True,  True, False, False, False, False, False,\n",
       "        True, False,  True,  True,  True, False, False, False,  True,\n",
       "       False, False,  True,  True, False, False, False, False,  True,\n",
       "       False, False, False,  True,  True, False, False,  True, False,\n",
       "        True])"
      ]
     },
     "execution_count": 116,
     "metadata": {},
     "output_type": "execute_result"
    }
   ],
   "source": [
    "condicion1"
   ]
  },
  {
   "cell_type": "code",
   "execution_count": 117,
   "metadata": {},
   "outputs": [
    {
     "data": {
      "text/plain": [
       "array([False, False,  True, False,  True, False, False, False,  True,\n",
       "        True,  True, False,  True,  True, False, False, False,  True,\n",
       "       False,  True,  True, False, False, False, False, False, False,\n",
       "       False, False,  True,  True, False,  True, False, False,  True,\n",
       "        True,  True,  True,  True, False,  True, False, False,  True,\n",
       "       False,  True,  True,  True,  True,  True, False,  True, False,\n",
       "       False, False,  True, False, False,  True,  True,  True, False,\n",
       "       False,  True, False,  True, False,  True,  True,  True,  True,\n",
       "       False,  True, False,  True,  True, False, False, False, False,\n",
       "       False,  True,  True,  True,  True,  True,  True,  True,  True,\n",
       "        True, False,  True, False,  True,  True,  True,  True,  True,\n",
       "        True])"
      ]
     },
     "execution_count": 117,
     "metadata": {},
     "output_type": "execute_result"
    }
   ],
   "source": [
    "condicion2"
   ]
  },
  {
   "cell_type": "code",
   "execution_count": 118,
   "metadata": {},
   "outputs": [
    {
     "data": {
      "text/plain": [
       "array([False, False,  True, False, False, False, False, False, False,\n",
       "        True, False, False, False,  True, False, False, False, False,\n",
       "       False,  True, False, False, False, False, False, False, False,\n",
       "       False, False,  True, False, False, False, False, False,  True,\n",
       "       False,  True, False, False, False, False, False, False, False,\n",
       "       False, False,  True, False,  True, False, False, False, False,\n",
       "       False, False,  True, False, False,  True, False, False, False,\n",
       "       False, False, False,  True, False, False, False, False, False,\n",
       "       False, False, False,  True,  True, False, False, False, False,\n",
       "       False, False,  True,  True, False, False, False, False,  True,\n",
       "       False, False, False, False,  True, False, False,  True, False,\n",
       "        True])"
      ]
     },
     "execution_count": 118,
     "metadata": {},
     "output_type": "execute_result"
    }
   ],
   "source": [
    "condicion1 & condicion2"
   ]
  },
  {
   "cell_type": "code",
   "execution_count": 119,
   "metadata": {},
   "outputs": [
    {
     "data": {
      "text/plain": [
       "array([74, 92, 54, 92, 64, 62, 80, 78, 56, 92, 86, 60, 72, 68, 90, 90, 90,\n",
       "       52, 68, 62])"
      ]
     },
     "execution_count": 119,
     "metadata": {},
     "output_type": "execute_result"
    }
   ],
   "source": [
    "original_filtrado = array_para_filtrar[condicion1 & condicion2] # Mayores de 50 y pares!\n",
    "original_filtrado"
   ]
  },
  {
   "cell_type": "markdown",
   "metadata": {},
   "source": [
    "#### Uso de mascaras para separar el comportamiento en un array"
   ]
  },
  {
   "cell_type": "code",
   "execution_count": 120,
   "metadata": {},
   "outputs": [
    {
     "data": {
      "text/plain": [
       "array([5, 5, 7, 5, 5, 7])"
      ]
     },
     "execution_count": 120,
     "metadata": {},
     "output_type": "execute_result"
    }
   ],
   "source": [
    "horas_entrenamiento = np.array([5, 5, 5, 5, 5, 5])\n",
    "mascara_rendimiento = np.array([True, True, False, True, True, False]) # Los True están aprobados, Los False necesitan entrenar más\n",
    "\n",
    "# Aumento 2 hs de entrenamiento a los deportistas que no han aprobado\n",
    "horas_entrenamiento[~mascara_rendimiento] += 2 # La ~ se usa para negar el contenido booleano del array\n",
    "\n",
    "horas_entrenamiento"
   ]
  }
 ],
 "metadata": {
  "kernelspec": {
   "display_name": "Python 3",
   "language": "python",
   "name": "python3"
  },
  "language_info": {
   "codemirror_mode": {
    "name": "ipython",
    "version": 3
   },
   "file_extension": ".py",
   "mimetype": "text/x-python",
   "name": "python",
   "nbconvert_exporter": "python",
   "pygments_lexer": "ipython3",
   "version": "3.11.5"
  }
 },
 "nbformat": 4,
 "nbformat_minor": 2
}
